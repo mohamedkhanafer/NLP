{
 "cells": [
  {
   "cell_type": "markdown",
   "metadata": {},
   "source": [
    "# Table of Content\n",
    "___\n",
    "## 0. Loading the Needed Libraries\n",
    "## 1. Problem Description and Dataset\n",
    "#### 1.1 Problem Description and Goal\n",
    "#### 1.2 The Dataset\n",
    "___\n",
    "## 2. Exploratory Data Analysis\n",
    "#### 2.1 A general look at the Tweets' text\n",
    "##### 2.1.1 The distributions of the Tweets' Length\n",
    "##### 2.1.2 The distribution of the number of words \n",
    "##### 2.1.3 Looking at the Stop Words\n",
    "##### 2.1.4 Looking at the most repeated words\n",
    "#### 2.2 The Location of Tweets\n",
    "#### 2.3 The Keywords column \n",
    "___\n",
    "## 3. Building Baseline Models\n",
    "####  3.1 RidgeClassifier Following Kaggle Tutorial\n",
    "#### 3.2 Multinomial Naive Bayes Classifier\n",
    "#### 3.3 Random Forrest Classifier\n",
    "#### 3.4 Logistic Regression\n",
    "#### 3.5 SVM\n",
    "#### 3.6 Gradient Boosting Classifier\n",
    "#### 3.7 KNN\n",
    "#### 3.8 XGBoost Classifier\n",
    "___\n",
    "## 4. Data Cleaning\n",
    "___\n",
    "## 5. Approach I: Basic Processing Methods\n",
    "#### 5.1 Removing  stopwords\n",
    "#### 5.2 N-Grams parameter\n",
    "#### 5.3 Mislabeled entries\n",
    "#### 5.4 Using the Keyword column to improve the performance\n",
    "#### 5.5 Conclusion Approach I\n",
    "___\n",
    "## 6. Approach II: Tokenization, Stemming, Lemmatization and  TF - IDF\n",
    "#### 6.1 Pre-cleaning\n",
    "#### 6.2 Tokenization, Stemming, and Lematization\n",
    "#### 6.3 Including the keywords into the text\n",
    "#### 6.4 TF - IDF\n",
    "#### 6.5 Running a SVM model with GridSearch\n",
    "#### 6.6 Running a Logistic Regression model with Hyperparameter tunning\n",
    "#### 6.7 Adding the words embeddings\n",
    "#### 6.8 Trying POS Tagging\n",
    "#### 6.9 Discussion: the better approach for considering the Keywords\n",
    "___\n",
    "## 7. Approach III: Better Preprocessing with correction of Spelling Mistakes\n",
    "#### 7.1 Running the Correct Spelling Function on the data\n",
    "#### 7.2 Rerunning the models with the correct spelling\n",
    "##### 7.2.1 Model 1 Rerun with spelling corrected\n",
    "___\n",
    "## 8. Approach IV: Simple BERT implementation using the simpletransformers library\n",
    "#### 8.1 BERT Model on raw data \n",
    "#### 8.2 BERT Model on cleaner data \n",
    "#### 8.3 BERT Model on cleaned and normalized data\n",
    "#### 8.4 BERT Model on cleaned, normalized and relabeled data\n",
    "#### 8.5 BERT Model on data corrected for spelling mistakes\n",
    "#### 8.6 BERT Model on corrected spelling mistakes and normalized data\n",
    "#### 8.7 BERT Model with spelling corrected, with stop words, and lemmatized\n",
    "___\n",
    "## 9. Conlusions and Final Model chosen\n",
    "___\n",
    "___"
   ]
  },
  {
   "cell_type": "code",
   "execution_count": 1057,
   "metadata": {},
   "outputs": [],
   "source": [
    "# Basic libraries:\n",
    "import pandas as pd\n",
    "import numpy as np\n",
    "import os\n",
    "import sys\n",
    "import matplotlib\n",
    "import matplotlib.pyplot as plt\n",
    "import matplotlib.patches as mpatches\n",
    "import seaborn as sns\n",
    "plt.style.use('ggplot')\n",
    "\n",
    "# NLTK:\n",
    "import nltk\n",
    "from nltk.corpus import stopwords\n",
    "from nltk.util import ngrams\n",
    "from nltk.stem import WordNetLemmatizer\n",
    "from nltk.stem.porter import PorterStemmer\n",
    "from nltk.tokenize import word_tokenize\n",
    "stop=set(stopwords.words('english'))\n",
    "\n",
    "#from wordcloud import WordCloud\n",
    "from collections import defaultdict\n",
    "from collections import Counter\n",
    "\n",
    "# sklearn: \n",
    "import sklearn\n",
    "from sklearn.feature_extraction.text import CountVectorizer, TfidfVectorizer, TfidfTransformer\n",
    "from sklearn.model_selection import train_test_split, StratifiedKFold, GridSearchCV\n",
    "from sklearn.decomposition import PCA, TruncatedSVD\n",
    "from sklearn.metrics import classification_report,confusion_matrix, accuracy_score, confusion_matrix, f1_score\n",
    "from sklearn import feature_extraction, linear_model, model_selection, preprocessing\n",
    "from sklearn.svm import SVC\n",
    "from sklearn.pipeline import Pipeline\n",
    "from sklearn.model_selection import KFold\n",
    "from sklearn.ensemble import RandomForestClassifier\n",
    "from sklearn.linear_model import LogisticRegression\n",
    "from sklearn.linear_model import SGDClassifier\n",
    "from sklearn.naive_bayes import MultinomialNB\n",
    "from sklearn.ensemble import GradientBoostingClassifier\n",
    "from sklearn.neighbors import KNeighborsClassifier\n",
    "from sklearn.model_selection import GridSearchCV\n",
    "\n",
    "# Keras: \n",
    "from keras.preprocessing.text import Tokenizer\n",
    "from keras.preprocessing.sequence import pad_sequences\n",
    "from keras.models import Sequential\n",
    "from keras.layers import Embedding, LSTM,Dense, SpatialDropout1D, Dropout\n",
    "from keras.initializers import Constant\n",
    "from keras.optimizers import Adam\n",
    "\n",
    "# tensorflow:\n",
    "import tensorflow_hub as hub\n",
    "\n",
    "# Other:\n",
    "from scipy import sparse\n",
    "import re\n",
    "import string\n",
    "from tqdm import tqdm\n",
    "from xgboost import XGBClassifier\n",
    "from lightgbm import LGBMClassifier\n",
    "from spellchecker import SpellChecker\n",
    "\n",
    "import torch\n",
    "\n",
    "# simpletransformers:\n",
    "from simpletransformers.classification import ClassificationModel\n",
    "\n",
    "\n",
    "# Function to find the correlation between categorical variables\n",
    "import scipy.stats as ss\n",
    "def cramers_v(x, y):\n",
    "    confusion_matrix = pd.crosstab(x,y)\n",
    "    chi2 = ss.chi2_contingency(confusion_matrix)[0]\n",
    "    n = confusion_matrix.sum().sum()\n",
    "    phi2 = chi2/n\n",
    "    r,k = confusion_matrix.shape\n",
    "    phi2corr = max(0, phi2-((k-1)*(r-1))/(n-1))\n",
    "    rcorr = r-((r-1)**2)/(n-1)\n",
    "    kcorr = k-((k-1)**2)/(n-1)\n",
    "    return np.sqrt(phi2corr/min((kcorr-1),(rcorr-1)))\n",
    "\n",
    "from IPython.core.display import HTML\n",
    "HTML(\"\"\"\n",
    "<style>\n",
    ".output_png {\n",
    "    display: table-cell;\n",
    "    text-align: center;\n",
    "    vertical-align: middle;\n",
    "}\n",
    "</style>\n",
    "\"\"\")\n",
    "font = {'fontname':'Arial Narrow'}"
   ]
  },
  {
   "cell_type": "markdown",
   "metadata": {},
   "source": [
    "## 1. Problem Description and Dataset\n",
    "\n",
    "### 1.1 Problem Description and Goal\n",
    "\n",
    "The goal of this notebook is to build a machine learning model that is able to classify the topic in a dataset containing 10,000 Tweets. In particular, we want to predict which Tweets in our dataset are about real disasters and which ones are not. \n",
    "\n",
    "This problem is actually a Kaggle Competition that can be found in the following link: https://www.kaggle.com/c/nlp-getting-started/overview\n",
    "\n",
    "### 1.2 The Dataset\n",
    "\n",
    "We are given 3 different files:\n",
    "\n",
    "- **train.csv** : the training data\n",
    "- **test.csv** : the test data\n",
    "- **sample_submission.csv** : a sample submission file showing the correct format\n",
    "\n",
    "Both the training and testing data have the following information: the text of a tweet, a keyword from that tweet (this could be blank), and the location the tweet was sent from (could also be blank).\n",
    "\n",
    "The description of the columns that are found in the datasets are:\n",
    "\n",
    "- **id** : a unique identifier for each tweet\n",
    "- **text** : the text of the tweet\n",
    "- **location** : the location the tweet was sent from (may be blank)\n",
    "- **keyword** : a particular keyword from the tweet (may be blank)\n",
    "- **target** : in train.csv only, this denotes whether a tweet is about a real disaster (1) or not (0)"
   ]
  },
  {
   "cell_type": "code",
   "execution_count": 1058,
   "metadata": {},
   "outputs": [],
   "source": [
    "# Uploading the above mentionned files:\n",
    "train = pd.read_csv('train.csv')\n",
    "test = pd.read_csv('test.csv')\n",
    "submission = pd.read_csv('sample_submission.csv')\n",
    "# We create a dataframe for the EDA:\n",
    "analyze = train.copy() "
   ]
  },
  {
   "cell_type": "code",
   "execution_count": 1059,
   "metadata": {},
   "outputs": [
    {
     "name": "stdout",
     "output_type": "stream",
     "text": [
      "The train dataframe has 7613 rows and 5 columns.\n",
      "The test dataframe has 3263 rows and 4 columns.\n"
     ]
    }
   ],
   "source": [
    "print(\"The train dataframe has \" + str(train.shape[0]) + \" rows and \" +str(train.shape[1]) + \" columns.\")\n",
    "print(\"The test dataframe has \" + str(test.shape[0]) + \" rows and \" +str(test.shape[1]) + \" columns.\")"
   ]
  },
  {
   "cell_type": "markdown",
   "metadata": {},
   "source": [
    "## 2. Exploratory Data Analysis\n",
    "\n",
    "Before modeling, we take a closer look at the data we have in order to get a better understanding of where our work should be focused on.\n",
    "We first start by analyzing the text of the tweets before looking at other columns.\n",
    "Some part of codes were inspired by Vitalii Mokin's work (https://www.kaggle.com/vbmokin/nlp-eda-bag-of-words-tf-idf-glove-bert/notebook). We, however, made sure to adapt all the code to our case and style it in our own way.\n",
    "\n",
    "### 2.1 A general look at the Tweets' text\n",
    "\n",
    "#### 2.1.1 The distributions of the Tweets' Length\n",
    "We first start by plotting the length of the Tweets, differentiating the real Tweets from the not real ones."
   ]
  },
  {
   "cell_type": "code",
   "execution_count": 57,
   "metadata": {},
   "outputs": [
    {
     "name": "stdout",
     "output_type": "stream",
     "text": [
      "The number of unique values for the text column is: 7503\n",
      "The percentage of missing values in the text column is: 0.0%\n"
     ]
    }
   ],
   "source": [
    "print(\"The number of unique values for the text column is: \" + str(len(analyze['text'].unique())))\n",
    "percentage_tg=round(analyze['text'].isnull().sum()/len(analyze)*100,2)\n",
    "print(\"The percentage of missing values in the text column is: \" + str(percentage_tg) + \"%\")"
   ]
  },
  {
   "cell_type": "code",
   "execution_count": 4,
   "metadata": {},
   "outputs": [
    {
     "data": {
      "image/png": "[encoded data removed]",
      "text/plain": [
       "<Figure size 1440x504 with 1 Axes>"
      ]
     },
     "metadata": {
      "needs_background": "light"
     },
     "output_type": "display_data"
    }
   ],
   "source": [
    "analyze[\"length_tweet\"] = analyze[\"text\"].apply(len)\n",
    "\n",
    "plt.figure(figsize=(20, 7))\n",
    "\n",
    "ax = plt.axes()\n",
    "ax.set_facecolor(\"white\")\n",
    "\n",
    "plt.hist(analyze[analyze['target'] == 0]['length_tweet'], alpha = 0.7, label='Not Disaster Tweets',bins=100, color = \"#FF8C00\")\n",
    "plt.hist(analyze[analyze['target'] == 1]['length_tweet'], alpha = 0.7, label='Disaster Tweets', bins=100, color = \"#342EAD\")\n",
    "\n",
    "plt.xlabel('Length of the Tweet', **font)\n",
    "plt.ylabel('Tweets Count', **font)\n",
    "plt.legend(loc='upper center')\n",
    "plt.show();"
   ]
  },
  {
   "cell_type": "code",
   "execution_count": 220,
   "metadata": {},
   "outputs": [
    {
     "data": {
      "image/png": "[encoded data removed]",
      "text/plain": [
       "<Figure size 1296x432 with 2 Axes>"
      ]
     },
     "metadata": {},
     "output_type": "display_data"
    }
   ],
   "source": [
    "fig, (ax1, ax2) = plt.subplots(ncols=2, sharey=True)\n",
    "sns.set(rc={'figure.figsize':(20,7)})\n",
    "ax1.set_facecolor(\"white\")\n",
    "ax2.set_facecolor(\"white\")\n",
    "sns.distplot(analyze[analyze['target'] == 1]['length_tweet'], label='Disaster Tweets', bins=100, color = \"#342EAD\", ax=ax2).set(title = 'Disaster Tweets')\n",
    "sns.distplot(analyze[analyze['target'] == 0]['length_tweet'], label='Disaster Tweets', bins=100, color = \"#FF8C00\", ax=ax1).set(title = 'Not Disaster Tweets');"
   ]
  },
  {
   "cell_type": "markdown",
   "metadata": {},
   "source": [
    "**Observation:**\n",
    "\n",
    "- We can see that the disaster tweets seem to be somewhat lengthier, with a concentration of Tweets around 130 to 140 characters. Note that originally Twitter allowed Tweet length to 140 characters and this later grew to 280 characters. But as cann be seen with this sample of Tweets, most of them are still below that 140 historic limit;\n",
    "- Another interesting observation is that we have some repeated texts. Those are most probably retweets. We will thus need to analyze those retweets to see if they will affect our model later on or not.\n",
    "\n",
    "#### 2.1.2 The distribution of the number of words \n",
    "\n",
    "Now how does the distribution of the number of words look like?"
   ]
  },
  {
   "cell_type": "code",
   "execution_count": 219,
   "metadata": {},
   "outputs": [
    {
     "data": {
      "image/png": "[encoded data removed]",
      "text/plain": [
       "<Figure size 1080x432 with 2 Axes>"
      ]
     },
     "metadata": {},
     "output_type": "display_data"
    }
   ],
   "source": [
    "analyze['word_count'] = analyze['text'].apply(lambda x: len(str(x).split()))\n",
    "\n",
    "fig,(ax1,ax2)=plt.subplots(1,2,figsize=(15,6))\n",
    "\n",
    "ax1.hist(analyze[analyze['target'] == 0]['word_count'], color = \"#FF8C00\", alpha = 0.7, bins= 30)\n",
    "ax1.set_title('Not Disaster Tweets', **font)\n",
    "ax1.set_facecolor(\"white\")\n",
    "\n",
    "ax2.hist(analyze[analyze['target'] == 1]['word_count'], color = \"#342EAD\", alpha = 0.7, bins= 30)\n",
    "ax2.set_title('Disaster Tweets', **font)\n",
    "ax2.set_facecolor(\"white\")\n",
    "\n",
    "fig.text(0.5, 0.04, 'Number of Words in the Tweets', ha='center', va='center')\n",
    "fig.text(0.06, 0.5, 'Tweets Counts', ha='center', va='center', rotation='vertical')\n",
    "\n",
    "plt.show()"
   ]
  },
  {
   "cell_type": "markdown",
   "metadata": {},
   "source": [
    "**Observation:**\n",
    "\n",
    "- We can see that the distribution of the number of words follows a somewhat normal distribution. With most of the tweets having between 10 and 20 words."
   ]
  },
  {
   "cell_type": "markdown",
   "metadata": {},
   "source": [
    "#### 2.1.3 Looking at the Stop Words\n",
    "Now that we have a general idea about the length of the content in the Tweets, we could look at the main stop words we have in those Tweets."
   ]
  },
  {
   "cell_type": "code",
   "execution_count": 221,
   "metadata": {},
   "outputs": [
    {
     "data": {
      "image/png": "[encoded data removed]",
      "text/plain": [
       "<Figure size 1440x504 with 1 Axes>"
      ]
     },
     "metadata": {},
     "output_type": "display_data"
    }
   ],
   "source": [
    "analyze['target2'] = 0\n",
    "def creating_corpus(target):\n",
    "    corpus=[]\n",
    "    for x in analyze[analyze['target2']==target]['text'].str.split():\n",
    "        for i in x:\n",
    "            corpus.append(i)\n",
    "    return corpus\n",
    "\n",
    "corpus=creating_corpus(0)\n",
    "values=defaultdict(int)\n",
    "for word in corpus:\n",
    "    if word in stop:\n",
    "        values[word]+=1\n",
    "top_25=sorted(values.items(), key=lambda x:x[1],reverse=True)[:25]\n",
    "\n",
    "a,b=zip(*top_25)\n",
    "ax = plt.axes()\n",
    "ax.set_facecolor(\"white\")\n",
    "plt.suptitle('Stop Words in all Tweets combined', **font)\n",
    "plt.bar(a,b, alpha = 0.6, color = \"#dbdbdb\")\n",
    "plt.xlabel('The stop Words', **font)\n",
    "plt.ylabel('Count', **font);"
   ]
  },
  {
   "cell_type": "code",
   "execution_count": 215,
   "metadata": {},
   "outputs": [
    {
     "data": {
      "image/png": "[encoded data removed]",
      "text/plain": [
       "<Figure size 1800x576 with 2 Axes>"
      ]
     },
     "metadata": {},
     "output_type": "display_data"
    }
   ],
   "source": [
    "def creating_corpus2(target):\n",
    "    corpus=[]\n",
    "    for x in analyze[analyze['target']==target]['text'].str.split():\n",
    "        for i in x:\n",
    "            corpus.append(i)\n",
    "    return corpus\n",
    "\n",
    "corpus=creating_corpus2(0)\n",
    "values=defaultdict(int)\n",
    "for word in corpus:\n",
    "    if word in stop:\n",
    "        values[word]+=1\n",
    "top_25_0=sorted(values.items(), key=lambda x:x[1],reverse=True)[:25]\n",
    "\n",
    "corpus2=creating_corpus2(1)\n",
    "values2=defaultdict(int)\n",
    "for word in corpus2:\n",
    "    if word in stop:\n",
    "        values2[word]+=1\n",
    "top_25_1=sorted(values2.items(), key=lambda x:x[1],reverse=True)[:25]\n",
    "\n",
    "fig,(ax1,ax2)=plt.subplots(1,2,figsize=(25,8))\n",
    "a,b=zip(*top_25_0)\n",
    "ax1.bar(a,b, alpha = 0.6, color = \"#FF8C00\")\n",
    "ax1.set_title('Stop Words in Not Disaster Tweets', **font)\n",
    "ax1.set_facecolor(\"white\")\n",
    "c,d=zip(*top_25_1)\n",
    "ax2.bar(c,d, alpha = 0.6, color = \"#342EAD\")\n",
    "ax2.set_title('Stop Words in Disaster Tweets', **font)\n",
    "ax2.set_facecolor(\"white\")"
   ]
  },
  {
   "cell_type": "markdown",
   "metadata": {},
   "source": [
    "**Observations:**\n",
    "\n",
    "- As expected, the most common stopwords are the words \"the\", \"a\", \"to\", etcs. But maybe an interesting is that the word \"in\" is almost as frequent as \"the\" in the disaster Tweets;\n",
    "\n",
    "- We will have to make a decision on whether to keep those stop words in our model or not. We will thus have to test what will be the effect of removing them later on.\n",
    "\n",
    "#### 2.1.4 Looking at the most repeated words\n",
    "With a good idea of the distribution of the stop words, we could take a look at the most repeated words other than the stop words to try to find some patterns or insights:"
   ]
  },
  {
   "cell_type": "code",
   "execution_count": 249,
   "metadata": {},
   "outputs": [
    {
     "data": {
      "image/png": "[encoded data removed]",
      "text/plain": [
       "<Figure size 1296x432 with 1 Axes>"
      ]
     },
     "metadata": {},
     "output_type": "display_data"
    }
   ],
   "source": [
    "plt.figure(figsize=(18,6))\n",
    "\n",
    "counting=Counter(corpus)\n",
    "repeat=counting.most_common()\n",
    "a=[]\n",
    "b=[]\n",
    "for word,count in repeat[:70]:\n",
    "    if (word not in stop) :\n",
    "        a.append(word)\n",
    "        b.append(count)\n",
    "\n",
    "ax = plt.axes()\n",
    "ax.set_facecolor(\"white\")\n",
    "plt.suptitle('Most Repeated Words', **font)\n",
    "sns.barplot(a,b, color=\"#dbdbdb\", alpha =0.6);"
   ]
  },
  {
   "cell_type": "markdown",
   "metadata": {},
   "source": [
    "**Observation:**\n",
    "\n",
    "- We can directly see that we have some stop words that were not counted above due to their first capital letter;\n",
    "- The other insight is that the words \"I\" (and its variation \"I'm\") is the most repeated word, with also the word \"like\" that should be kept an eye on;\n",
    "- We also start noticing disaster-related words like \"fire\";\n",
    "- There will be some cleaning required for the data, defining how to deal with the punctuation for instance.\n",
    "\n",
    "With this good general overview on the content of the Tweets, we could now take a look at the other columns in the data and see whether they could be useful or not for our analysis.\n",
    "\n",
    "### 2.2 The Location of Tweets\n",
    "Can the location from where the Tweets were sent tell us something informative for our analysis?"
   ]
  },
  {
   "cell_type": "code",
   "execution_count": 274,
   "metadata": {},
   "outputs": [
    {
     "name": "stdout",
     "output_type": "stream",
     "text": [
      "The number of unique values for the location is: 3342\n",
      "The correlation between the target and location is: 0.19029390748256667\n",
      "The percentage of missing values in the location column is: 33.27%\n"
     ]
    }
   ],
   "source": [
    "print(\"The number of unique values for the location is: \" + str(len(analyze['location'].unique())))\n",
    "print(\"The correlation between the target and location is: \" + str(cramers_v(analyze[\"target\"], analyze[\"location\"])))\n",
    "percentage_loc=round(analyze['location'].isnull().sum()/len(analyze)*100,2)\n",
    "print(\"The percentage of missing values in the location column is: \" + str(percentage_loc) + \"%\")"
   ]
  },
  {
   "cell_type": "code",
   "execution_count": 273,
   "metadata": {},
   "outputs": [
    {
     "data": {
      "image/png": "[encoded data removed]",
      "text/plain": [
       "<Figure size 1800x432 with 1 Axes>"
      ]
     },
     "metadata": {},
     "output_type": "display_data"
    }
   ],
   "source": [
    "loca = analyze[\"location\"].value_counts()\n",
    "plt.figure(figsize=(25,6))\n",
    "ax = plt.axes()\n",
    "ax.set_facecolor(\"white\")\n",
    "sns.barplot(x=loca[0:20].index, y=loca[0:20], color=\"#dbdbdb\", alpha =0.6).set(title = 'The top 20 Locations of all Tweets')\n",
    "plt.ylabel('Count', **font);"
   ]
  },
  {
   "cell_type": "code",
   "execution_count": 272,
   "metadata": {},
   "outputs": [
    {
     "data": {
      "image/png": "[encoded data removed]",
      "text/plain": [
       "<Figure size 1800x432 with 1 Axes>"
      ]
     },
     "metadata": {},
     "output_type": "display_data"
    }
   ],
   "source": [
    "analyze2 = analyze.copy()\n",
    "analyze2 =analyze2[analyze2['target']==1]\n",
    "loca = analyze2[\"location\"].value_counts()\n",
    "plt.figure(figsize=(25,6))\n",
    "ax = plt.axes()\n",
    "ax.set_facecolor(\"white\")\n",
    "sns.barplot(x=loca[0:20].index, y=loca[0:20], color=\"#342EAD\", alpha =0.7).set(title = 'The top 20 Locations of Tweets for the Disaster Tweets')\n",
    "plt.ylabel('Count', **font);"
   ]
  },
  {
   "cell_type": "markdown",
   "metadata": {},
   "source": [
    "**Observations:**\n",
    "\n",
    "- We see that out of the 20 most repeated locations, the United States have 10 locations referencing to it or its cities;\n",
    "- There are some irrelevant locations such as \"Everywhere\";\n",
    "- When looking at the distribution of the locations for the tweets that do refer to disasters, we see some interesting locations increase in the ranking such as India/Mumbai, Nigeria, and UK/London;\n",
    "- Another important consideration is that around one third of the location data is missing. This maybe could push us to drop the column later on if it is not very informative. Or another idea could be to process the column into continents or maybe regions.\n",
    "\n",
    "### 2.3 The Keywords column \n",
    "\n",
    "Finally, we can take a look at the keyword column to see how informative it would be for our model."
   ]
  },
  {
   "cell_type": "code",
   "execution_count": 276,
   "metadata": {},
   "outputs": [
    {
     "name": "stdout",
     "output_type": "stream",
     "text": [
      "The number of unique values for the keyword column is: 222\n",
      "The correlation between target and keyword is: 0.5208786722791171\n",
      "The percentage of missing values in the keyword column is: 0.8%\n"
     ]
    }
   ],
   "source": [
    "print(\"The number of unique values for the keyword column is: \" + str(len(analyze['keyword'].unique())))\n",
    "print(\"The correlation between target and keyword is: \" + str(cramers_v(analyze[\"target\"], analyze[\"keyword\"])))\n",
    "percentage_kw=round(analyze['keyword'].isnull().sum()/len(analyze)*100,2)\n",
    "print(\"The percentage of missing values in the keyword column is: \" + str(percentage_kw) + \"%\")"
   ]
  },
  {
   "cell_type": "code",
   "execution_count": 288,
   "metadata": {},
   "outputs": [
    {
     "data": {
      "image/png": "[encoded data removed]",
      "text/plain": [
       "<Figure size 1800x864 with 2 Axes>"
      ]
     },
     "metadata": {},
     "output_type": "display_data"
    }
   ],
   "source": [
    "dis_kw = analyze.loc[analyze[\"target\"] == 1][\"keyword\"].value_counts()\n",
    "ndis_key = analyze.loc[analyze[\"target\"] == 0][\"keyword\"].value_counts()\n",
    "\n",
    "fig,(ax1,ax2)=plt.subplots(1,2,figsize=(25,12))\n",
    "sns.barplot(y=dis_kw[0:20].index, x=dis_kw[0:20], ax=ax2, color=\"#342EAD\", alpha=0.6)\n",
    "sns.barplot(y=ndis_key[0:20].index, x=ndis_key[0:20], ax=ax1, color=\"#FF8C00\", alpha=0.8)\n",
    "\n",
    "ax2.set_title(\"The top 20 Keywords for Disaster Tweets\")\n",
    "ax2.set_xlabel(\"Frequency  of the keyword\")\n",
    "ax2.set_facecolor(\"white\")\n",
    "\n",
    "ax1.set_title(\"Top 20 Keywords for Not Disaster Tweets\")\n",
    "ax1.set_xlabel(\"Frequency  of the keyword\")\n",
    "ax1.set_facecolor(\"white\")\n",
    "plt.show()"
   ]
  },
  {
   "cell_type": "markdown",
   "metadata": {},
   "source": [
    "**Observations:**\n",
    "\n",
    "- We can see that the keyword column will be significant for our model when it comes to determining the target variable. Indeed, we have good correlation with the target variable (52%);\n",
    "- Looking at the most frequent keywords for the Disaster tweets, we see that they do make sense and all relate to disasters. However, we also see that some disasters-related words are also present in the top 20 of the non-disaster Tweets. For instance ruin, deluge, blizzard, etc. Thus this will need to be looked into."
   ]
  },
  {
   "cell_type": "markdown",
   "metadata": {},
   "source": [
    "## 3. Building Baseline Models\n",
    "We first start by building a baseline model from which we will develop the remaining of the notebook. We try first several classifiers and then will try to apply some processing methods learned in class to try achieving a better result.\n",
    "\n",
    "###  3.1 RidgeClassifier Following Kaggle Tutorial\n",
    "\n",
    "**Building vectors**\n",
    "The theory behind this model is simple: the words contained in each tweet are a good indicator of whether they're about a real disaster or not (this is not entirely correct, but good starting point).\n",
    "\n",
    "We use scikit-learn's CountVectorizer to count the words in each tweet and turn them into data our machine learning model can process."
   ]
  },
  {
   "cell_type": "code",
   "execution_count": 28,
   "metadata": {},
   "outputs": [
    {
     "data": {
      "text/plain": [
       "array([0.59421842, 0.5642787 , 0.64082434])"
      ]
     },
     "execution_count": 28,
     "metadata": {},
     "output_type": "execute_result"
    }
   ],
   "source": [
    "count_vectorizer = feature_extraction.text.CountVectorizer()\n",
    "\n",
    "train_vectors = count_vectorizer.fit_transform(train[\"text\"])\n",
    "test_vectors = count_vectorizer.transform(test[\"text\"])\n",
    "clf = linear_model.RidgeClassifier()\n",
    "\n",
    "scores = model_selection.cross_val_score(clf, train_vectors, train[\"target\"], cv=3, scoring=\"f1\")\n",
    "scores"
   ]
  },
  {
   "cell_type": "code",
   "execution_count": 301,
   "metadata": {},
   "outputs": [],
   "source": [
    "clf.fit(train_vectors, train[\"target\"])\n",
    "submission[\"target\"] = clf.predict(test_vectors)\n",
    "#submission.to_csv(\"submission1.csv\", index=False)"
   ]
  },
  {
   "cell_type": "markdown",
   "metadata": {},
   "source": [
    "The score of this submission1 to the leaderboard is 0.7709.\n",
    "\n",
    "### 3.2 Multinomial Naive Bayes Classifier"
   ]
  },
  {
   "cell_type": "code",
   "execution_count": 309,
   "metadata": {},
   "outputs": [
    {
     "data": {
      "text/plain": [
       "array([0.66763006, 0.6557971 , 0.72431507])"
      ]
     },
     "execution_count": 309,
     "metadata": {},
     "output_type": "execute_result"
    }
   ],
   "source": [
    "nb = MultinomialNB()\n",
    "\n",
    "scores = model_selection.cross_val_score(nb, train_vectors, train[\"target\"], cv=3, scoring=\"f1\")\n",
    "scores"
   ]
  },
  {
   "cell_type": "code",
   "execution_count": 311,
   "metadata": {},
   "outputs": [],
   "source": [
    "nb.fit(train_vectors, train[\"target\"])\n",
    "submission[\"target\"] = nb.predict(test_vectors)\n",
    "submission.to_csv(\"submission2.csv\", index=False)"
   ]
  },
  {
   "cell_type": "markdown",
   "metadata": {},
   "source": [
    "The score of this submission2 to the leaderboard is 0.79038.\n",
    "\n",
    "### 3.3 Random Forrest Classifier"
   ]
  },
  {
   "cell_type": "code",
   "execution_count": 312,
   "metadata": {},
   "outputs": [
    {
     "data": {
      "text/plain": [
       "array([0.54280279, 0.48401254, 0.61487965])"
      ]
     },
     "execution_count": 312,
     "metadata": {},
     "output_type": "execute_result"
    }
   ],
   "source": [
    "rf = RandomForestClassifier(n_estimators = 500)\n",
    "\n",
    "scores = model_selection.cross_val_score(rf, train_vectors, train[\"target\"], cv=3, scoring=\"f1\")\n",
    "scores"
   ]
  },
  {
   "cell_type": "code",
   "execution_count": 313,
   "metadata": {},
   "outputs": [],
   "source": [
    "rf.fit(train_vectors, train[\"target\"])\n",
    "submission[\"target\"] = rf.predict(test_vectors)\n",
    "submission.to_csv(\"submission3.csv\", index=False)"
   ]
  },
  {
   "cell_type": "markdown",
   "metadata": {},
   "source": [
    "The score of this submission3 to the leaderboard is 0.78220.\n",
    "\n",
    "### 3.4 Logistic Regression"
   ]
  },
  {
   "cell_type": "code",
   "execution_count": 314,
   "metadata": {},
   "outputs": [
    {
     "name": "stderr",
     "output_type": "stream",
     "text": [
      "/Users/mohamedkhanafer/anaconda3/lib/python3.7/site-packages/sklearn/linear_model/_logistic.py:940: ConvergenceWarning: lbfgs failed to converge (status=1):\n",
      "STOP: TOTAL NO. of ITERATIONS REACHED LIMIT.\n",
      "\n",
      "Increase the number of iterations (max_iter) or scale the data as shown in:\n",
      "    https://scikit-learn.org/stable/modules/preprocessing.html\n",
      "Please also refer to the documentation for alternative solver options:\n",
      "    https://scikit-learn.org/stable/modules/linear_model.html#logistic-regression\n",
      "  extra_warning_msg=_LOGISTIC_SOLVER_CONVERGENCE_MSG)\n"
     ]
    },
    {
     "data": {
      "text/plain": [
       "array([0.6387547 , 0.61347869, 0.68350669])"
      ]
     },
     "execution_count": 314,
     "metadata": {},
     "output_type": "execute_result"
    }
   ],
   "source": [
    "lgr = LogisticRegression()\n",
    "scores = model_selection.cross_val_score(lgr, train_vectors, train[\"target\"], cv=3, scoring=\"f1\")\n",
    "scores"
   ]
  },
  {
   "cell_type": "code",
   "execution_count": 315,
   "metadata": {},
   "outputs": [
    {
     "name": "stderr",
     "output_type": "stream",
     "text": [
      "/Users/mohamedkhanafer/anaconda3/lib/python3.7/site-packages/sklearn/linear_model/_logistic.py:940: ConvergenceWarning: lbfgs failed to converge (status=1):\n",
      "STOP: TOTAL NO. of ITERATIONS REACHED LIMIT.\n",
      "\n",
      "Increase the number of iterations (max_iter) or scale the data as shown in:\n",
      "    https://scikit-learn.org/stable/modules/preprocessing.html\n",
      "Please also refer to the documentation for alternative solver options:\n",
      "    https://scikit-learn.org/stable/modules/linear_model.html#logistic-regression\n",
      "  extra_warning_msg=_LOGISTIC_SOLVER_CONVERGENCE_MSG)\n"
     ]
    }
   ],
   "source": [
    "lgr.fit(train_vectors, train[\"target\"])\n",
    "submission[\"target\"] = lgr.predict(test_vectors)\n",
    "submission.to_csv(\"submission4.csv\", index=False)"
   ]
  },
  {
   "cell_type": "markdown",
   "metadata": {},
   "source": [
    "The score of this submission4 to the leaderboard is 0.79243.\n",
    "\n",
    "### 3.5 SVM"
   ]
  },
  {
   "cell_type": "code",
   "execution_count": 316,
   "metadata": {},
   "outputs": [
    {
     "data": {
      "text/plain": [
       "array([0.57321226, 0.52510917, 0.64289204])"
      ]
     },
     "execution_count": 316,
     "metadata": {},
     "output_type": "execute_result"
    }
   ],
   "source": [
    "svm = SGDClassifier(random_state=20)\n",
    "scores = model_selection.cross_val_score(svm, train_vectors, train[\"target\"], cv=3, scoring=\"f1\")\n",
    "scores"
   ]
  },
  {
   "cell_type": "code",
   "execution_count": 317,
   "metadata": {},
   "outputs": [],
   "source": [
    "svm.fit(train_vectors, train[\"target\"])\n",
    "submission[\"target\"] = svm.predict(test_vectors)\n",
    "submission.to_csv(\"submission5.csv\", index=False)"
   ]
  },
  {
   "cell_type": "markdown",
   "metadata": {},
   "source": [
    "The score of this submission5 to the leaderboard is 0.77096.\n",
    "\n",
    "### 3.6 Gradient Boosting Classifier"
   ]
  },
  {
   "cell_type": "code",
   "execution_count": 321,
   "metadata": {},
   "outputs": [
    {
     "data": {
      "text/plain": [
       "array([0.50880389, 0.43712575, 0.55834242])"
      ]
     },
     "execution_count": 321,
     "metadata": {},
     "output_type": "execute_result"
    }
   ],
   "source": [
    "gb = GradientBoostingClassifier(loss = 'deviance',learning_rate = 0.01, n_estimators = 100, max_depth = 30,random_state=20)\n",
    "scores = model_selection.cross_val_score(gb, train_vectors, train[\"target\"], cv=3, scoring=\"f1\")\n",
    "scores"
   ]
  },
  {
   "cell_type": "code",
   "execution_count": 322,
   "metadata": {},
   "outputs": [],
   "source": [
    "gb.fit(train_vectors, train[\"target\"])\n",
    "submission[\"target\"] = gb.predict(test_vectors)\n",
    "submission.to_csv(\"submission6.csv\", index=False)"
   ]
  },
  {
   "cell_type": "markdown",
   "metadata": {},
   "source": [
    "The score of this submission6 to the leaderboard is 0.75766.\n",
    "\n",
    "### 3.7 KNN"
   ]
  },
  {
   "cell_type": "code",
   "execution_count": 326,
   "metadata": {},
   "outputs": [
    {
     "data": {
      "text/plain": [
       "array([0.19700552, 0.10376569, 0.20187793])"
      ]
     },
     "execution_count": 326,
     "metadata": {},
     "output_type": "execute_result"
    }
   ],
   "source": [
    "knn = KNeighborsClassifier()\n",
    "scores = model_selection.cross_val_score(knn, train_vectors, train[\"target\"], cv=3, scoring=\"f1\")\n",
    "scores"
   ]
  },
  {
   "cell_type": "code",
   "execution_count": 327,
   "metadata": {},
   "outputs": [],
   "source": [
    "knn.fit(train_vectors, train[\"target\"])\n",
    "submission[\"target\"] = knn.predict(test_vectors)\n",
    "#submission.to_csv(\"submission7.csv\", index=False)"
   ]
  },
  {
   "cell_type": "markdown",
   "metadata": {},
   "source": [
    "The scores seemed pretty low compared to the other classifier so it was not submitted to Kaggle.\n",
    "\n",
    "### 3.8 XGBoost Classifier"
   ]
  },
  {
   "cell_type": "code",
   "execution_count": 329,
   "metadata": {},
   "outputs": [
    {
     "data": {
      "text/plain": [
       "array([0.59390582, 0.56096337, 0.63518887])"
      ]
     },
     "execution_count": 329,
     "metadata": {},
     "output_type": "execute_result"
    }
   ],
   "source": [
    "xgb = XGBClassifier(max_depth=6,learning_rate=0.3,n_estimators=1500,objective='binary:logistic',random_state=123,n_jobs=4)\n",
    "scores = model_selection.cross_val_score(xgb, train_vectors, train[\"target\"], cv=3, scoring=\"f1\")\n",
    "scores"
   ]
  },
  {
   "cell_type": "code",
   "execution_count": 331,
   "metadata": {},
   "outputs": [],
   "source": [
    "xgb.fit(train_vectors, train[\"target\"])\n",
    "submission[\"target\"] = xgb.predict(test_vectors)\n",
    "submission.to_csv(\"submission8.csv\", index=False)"
   ]
  },
  {
   "cell_type": "markdown",
   "metadata": {},
   "source": [
    "The score of this submission8 to the leaderboard is 0.79038."
   ]
  },
  {
   "cell_type": "markdown",
   "metadata": {},
   "source": [
    "## 4. Data Cleaning \n",
    "\n",
    "Before doing some proper preprocessing of the data, because we are dealing with Tweets, it would be preferable to clean the text first. Indeed, Tweets contain a lot of anomalies that could make the performance of the model worst. We thus first start by removing some special characters, punctuations, URLs, and HTML tags."
   ]
  },
  {
   "cell_type": "markdown",
   "metadata": {},
   "source": [
    "For creating the functions we used next, we were inspired by the codes of: [Ali Tavakoli](https://stackoverflow.com/questions/33404752/removing-emojis-from-a-string-in-python/49146722#49146722),\n",
    "[Shahules786](https://www.kaggle.com/shahules/basic-eda-cleaning-and-glove), [Parul Pandey](https://www.kaggle.com/parulpandey/getting-started-with-nlp-feature-vectors) and [Gunes Evitan](https://www.kaggle.com/gunesevitan/nlp-with-disaster-tweets-eda-cleaning-and-bert#4.-Embeddings-and-Text-Cleaning). We tried to combine their approached, adding our personnal judgement on what "
   ]
  },
  {
   "cell_type": "code",
   "execution_count": 78,
   "metadata": {},
   "outputs": [],
   "source": [
    "# An adapted veersion of the function that first make the text lowercase, remove the text in square brackets,\n",
    "# remove URLS, remove some special characters, words containing numbers and remove also HTML Tags\n",
    "\n",
    "def cleaning(data):\n",
    "    data = data.lower() # we first make the data lowercase, to apply a good cleaning to all\n",
    "    data = re.sub(r'https?:\\/\\/t.co\\/[A-Za-z0-9]+', '', data) # we remove the URLs in the text\n",
    "    data = re.sub(\"\\\\W\",\" \",data) # we remove special chars\n",
    "    data = re.sub('<.*?>+', '', data) # we remove the HTML tags\n",
    "    data = re.sub('\\[.*?\\]', '', data) # we remove the punctuation\n",
    "    data = re.sub('[%s]' % re.escape(string.punctuation), '', data)\n",
    "    data = re.sub('\\n', '', data)\n",
    "    data = re.sub('\\w*\\d\\w*', '', data)\n",
    "    data = re.sub(r\"\\x89Û_\", \"\", data) # we are using here other manually written rules after we noticed that some \n",
    "    data = re.sub(r\"\\x89ÛÒ\", \"\", data)    # other characters were still present\n",
    "    data = re.sub(r\"\\x89ÛÓ\", \"\", data)\n",
    "    data = re.sub(r\"\\x89ÛÏ\", \"\", data)\n",
    "    data = re.sub(r\"let\\x89Ûªs\", \"let's\", data)\n",
    "    data = re.sub(r\"\\x89Û÷\", \"\", data)\n",
    "    data = re.sub(r\"\\x89Ûª\", \"\", data)\n",
    "    data = re.sub(r\"\\x89Û\\x9d\", \"\", data)\n",
    "    data = re.sub(r\"å_\", \"\", data)\n",
    "    data = re.sub(r\"\\x89Û¢\", \"\", data)\n",
    "    data = re.sub(r\"\\x89Û¢åÊ\", \"\", data)\n",
    "    data = re.sub(r\"åÊ\", \"\", data)\n",
    "    data = re.sub(r\"åÈ\", \"\", data)   \n",
    "    data = re.sub(r\"Ì©\", \"e\", data)\n",
    "    data = re.sub(r\"å¨\", \"\", data)\n",
    "    data = re.sub(r\"SuruÌ¤\", \"Suruc\", data)\n",
    "    data = re.sub(r\"åÇ\", \"\", data)\n",
    "    data = re.sub(r\"åÀ\", \"\", data)\n",
    "    return data\n",
    "\n",
    "# will maybe use this function later:\n",
    "def no_emojis(data):\n",
    "    emojis = re.compile(\"[\"\n",
    "                           u\"\\U0001F600-\\U0001F64F\"  # These represent the emoticons\n",
    "                           u\"\\U0001F300-\\U0001F5FF\"  # These represent the symbols & pictographs\n",
    "                           u\"\\U0001F680-\\U0001F6FF\"  # These represent the transport & map symbols\n",
    "                           u\"\\U0001F1E0-\\U0001F1FF\"  # These represent the flags\n",
    "                           u\"\\U00002702-\\U000027B0\"\n",
    "                           u\"\\U000024C2-\\U0001F251\"\n",
    "                           \"]+\", flags=re.UNICODE)\n",
    "    return emojis.sub(r'', data)"
   ]
  },
  {
   "cell_type": "code",
   "execution_count": 79,
   "metadata": {},
   "outputs": [],
   "source": [
    "trainB = train.copy()\n",
    "testB = test.copy()\n",
    "\n",
    "trainB['text'] = trainB['text'].apply(lambda x : cleaning(x))\n",
    "testB['text'] = testB['text'].apply(lambda x : cleaning(x))"
   ]
  },
  {
   "cell_type": "code",
   "execution_count": 500,
   "metadata": {},
   "outputs": [
    {
     "data": {
      "text/plain": [
       "array([0.63049579, 0.55685619, 0.61551155, 0.5793722 , 0.71395168])"
      ]
     },
     "execution_count": 500,
     "metadata": {},
     "output_type": "execute_result"
    }
   ],
   "source": [
    "## Testing model after Cleaning:\n",
    "count_vectorizer = feature_extraction.text.CountVectorizer()\n",
    "\n",
    "train_vectors = count_vectorizer.fit_transform(trainB[\"text\"])\n",
    "test_vectors = count_vectorizer.transform(testB[\"text\"])\n",
    "\n",
    "lgr = LogisticRegression()\n",
    "scores = model_selection.cross_val_score(lgr, train_vectors, trainB[\"target\"], cv=5, scoring=\"f1\")\n",
    "scores"
   ]
  },
  {
   "cell_type": "code",
   "execution_count": 81,
   "metadata": {},
   "outputs": [
    {
     "name": "stderr",
     "output_type": "stream",
     "text": [
      "/Users/mohamedkhanafer/anaconda3/lib/python3.7/site-packages/sklearn/linear_model/_logistic.py:940: ConvergenceWarning: lbfgs failed to converge (status=1):\n",
      "STOP: TOTAL NO. of ITERATIONS REACHED LIMIT.\n",
      "\n",
      "Increase the number of iterations (max_iter) or scale the data as shown in:\n",
      "    https://scikit-learn.org/stable/modules/preprocessing.html\n",
      "Please also refer to the documentation for alternative solver options:\n",
      "    https://scikit-learn.org/stable/modules/linear_model.html#logistic-regression\n",
      "  extra_warning_msg=_LOGISTIC_SOLVER_CONVERGENCE_MSG)\n"
     ]
    }
   ],
   "source": [
    "lgr.fit(train_vectors, trainB[\"target\"])\n",
    "submission[\"target\"] = lgr.predict(test_vectors)\n",
    "submission.to_csv(\"submission10.csv\", index=False)"
   ]
  },
  {
   "cell_type": "markdown",
   "metadata": {},
   "source": [
    "The resulting score is slightly better than previously with a score on the Leaderboard of 0.79550."
   ]
  },
  {
   "cell_type": "markdown",
   "metadata": {},
   "source": [
    "## 5. Approach I: Basic Processing Methods"
   ]
  },
  {
   "cell_type": "markdown",
   "metadata": {},
   "source": [
    "### 5.1 Removing  stopwords\n",
    "As we saw in the EDA, we have an important presence of stopwords. Because they are very common, we believe thay are of little value and thus removing them could improve the model. Here, we will use the stopwords provided by NLTK through the parameter stop_word."
   ]
  },
  {
   "cell_type": "code",
   "execution_count": 502,
   "metadata": {},
   "outputs": [],
   "source": [
    "stopwords = stopwords.words('english')"
   ]
  },
  {
   "cell_type": "markdown",
   "metadata": {},
   "source": [
    "### 5.2 N-Grams parameter\n",
    "\n",
    "The CountVectorizer also allows the inclusion of N-grams into the analysis. It specifies the upper limit as well as the lower limit for the range of words to be extracted from the Tweets. Here we use ngram_range = (1,2) meaning Unigrams and Bigrams."
   ]
  },
  {
   "cell_type": "code",
   "execution_count": 103,
   "metadata": {},
   "outputs": [
    {
     "data": {
      "text/plain": [
       "array([0.5928934 , 0.49129239, 0.56864482, 0.49345418, 0.6986532 ])"
      ]
     },
     "execution_count": 103,
     "metadata": {},
     "output_type": "execute_result"
    }
   ],
   "source": [
    "count_vectorizer = feature_extraction.text.CountVectorizer(token_pattern=r'\\w{1,}', ngram_range=(1, 2), stop_words = stopwords)\n",
    "\n",
    "train_vectors = count_vectorizer.fit_transform(trainB[\"text\"])\n",
    "test_vectors = count_vectorizer.transform(testB[\"text\"])\n",
    "\n",
    "lgr = LogisticRegression()\n",
    "scores = model_selection.cross_val_score(lgr, train_vectors, trainB[\"target\"], cv=5, scoring=\"f1\")\n",
    "scores"
   ]
  },
  {
   "cell_type": "code",
   "execution_count": 104,
   "metadata": {},
   "outputs": [],
   "source": [
    "lgr.fit(train_vectors, trainB[\"target\"])\n",
    "submission[\"target\"] = lgr.predict(test_vectors)\n",
    "submission.to_csv(\"submission13.csv\", index=False)"
   ]
  },
  {
   "cell_type": "markdown",
   "metadata": {},
   "source": [
    "This one scored the highest so far with 0.81186."
   ]
  },
  {
   "cell_type": "markdown",
   "metadata": {},
   "source": [
    "### 5.3 Mislabeled entries\n",
    "As noticed in the EDA, we saw that some Tweets were duplicated. We here check that those Tweets are consistent with their labels in the target column. We noticed they were not and thus try to modify those labels to have a unified classification for those duplicate Tweets."
   ]
  },
  {
   "cell_type": "code",
   "execution_count": 1054,
   "metadata": {},
   "outputs": [
    {
     "data": {
      "text/html": [
       "<div>\n",
       "<style scoped>\n",
       "    .dataframe tbody tr th:only-of-type {\n",
       "        vertical-align: middle;\n",
       "    }\n",
       "\n",
       "    .dataframe tbody tr th {\n",
       "        vertical-align: top;\n",
       "    }\n",
       "\n",
       "    .dataframe thead th {\n",
       "        text-align: right;\n",
       "    }\n",
       "</style>\n",
       "<table border=\"1\" class=\"dataframe\">\n",
       "  <thead>\n",
       "    <tr style=\"text-align: right;\">\n",
       "      <th></th>\n",
       "      <th>id</th>\n",
       "      <th>keyword</th>\n",
       "      <th>location</th>\n",
       "      <th>text</th>\n",
       "      <th>target</th>\n",
       "    </tr>\n",
       "    <tr>\n",
       "      <th>text</th>\n",
       "      <th></th>\n",
       "      <th></th>\n",
       "      <th></th>\n",
       "      <th></th>\n",
       "      <th></th>\n",
       "    </tr>\n",
       "  </thead>\n",
       "  <tbody>\n",
       "    <tr>\n",
       "      <th>the dress memes have officially exploded on the internet</th>\n",
       "      <td>3</td>\n",
       "      <td>1</td>\n",
       "      <td>1</td>\n",
       "      <td>1</td>\n",
       "      <td>2</td>\n",
       "    </tr>\n",
       "    <tr>\n",
       "      <th>caution  breathing may be hazardous to your health</th>\n",
       "      <td>2</td>\n",
       "      <td>1</td>\n",
       "      <td>0</td>\n",
       "      <td>1</td>\n",
       "      <td>2</td>\n",
       "    </tr>\n",
       "    <tr>\n",
       "      <th>truth      news  bbc  cnn  islam  truth  god  isis  terrorism  quran  lies</th>\n",
       "      <td>7</td>\n",
       "      <td>1</td>\n",
       "      <td>0</td>\n",
       "      <td>1</td>\n",
       "      <td>2</td>\n",
       "    </tr>\n",
       "    <tr>\n",
       "      <th>world fedex no longer to transport bioterror germs in wake of anthrax lab mishaps</th>\n",
       "      <td>2</td>\n",
       "      <td>1</td>\n",
       "      <td>1</td>\n",
       "      <td>1</td>\n",
       "      <td>2</td>\n",
       "    </tr>\n",
       "    <tr>\n",
       "      <th>why are you deluged with low self image  take the quiz</th>\n",
       "      <td>2</td>\n",
       "      <td>1</td>\n",
       "      <td>2</td>\n",
       "      <td>1</td>\n",
       "      <td>2</td>\n",
       "    </tr>\n",
       "    <tr>\n",
       "      <th>cindy noonan cindynoonan heartbreak in  baltimore  rioting  yahistorical  undergroundrailraod</th>\n",
       "      <td>2</td>\n",
       "      <td>1</td>\n",
       "      <td>2</td>\n",
       "      <td>1</td>\n",
       "      <td>2</td>\n",
       "    </tr>\n",
       "    <tr>\n",
       "      <th>to fight bioterrorism sir</th>\n",
       "      <td>4</td>\n",
       "      <td>1</td>\n",
       "      <td>0</td>\n",
       "      <td>1</td>\n",
       "      <td>2</td>\n",
       "    </tr>\n",
       "    <tr>\n",
       "      <th>foodscare    nestleindia slips into loss after  magginoodle  ban unsafe and hazardous for  humanconsumption</th>\n",
       "      <td>3</td>\n",
       "      <td>1</td>\n",
       "      <td>2</td>\n",
       "      <td>1</td>\n",
       "      <td>2</td>\n",
       "    </tr>\n",
       "    <tr>\n",
       "      <th>like for the music video i want some real action shit like burning buildings and police chases not some weak ben winston shit</th>\n",
       "      <td>2</td>\n",
       "      <td>2</td>\n",
       "      <td>1</td>\n",
       "      <td>1</td>\n",
       "      <td>2</td>\n",
       "    </tr>\n",
       "    <tr>\n",
       "      <th>cree led work light  offroad lamp car truck boat mining  flood beam   full rea û</th>\n",
       "      <td>4</td>\n",
       "      <td>1</td>\n",
       "      <td>1</td>\n",
       "      <td>1</td>\n",
       "      <td>2</td>\n",
       "    </tr>\n",
       "  </tbody>\n",
       "</table>\n",
       "</div>"
      ],
      "text/plain": [
       "                                                                                                                               id  \\\n",
       "text                                                                                                                                \n",
       "the dress memes have officially exploded on the internet                                                                        3   \n",
       "caution  breathing may be hazardous to your health                                                                              2   \n",
       "truth      news  bbc  cnn  islam  truth  god  isis  terrorism  quran  lies                                                      7   \n",
       " world fedex no longer to transport bioterror germs in wake of anthrax lab mishaps                                              2   \n",
       "why are you deluged with low self image  take the quiz                                                                          2   \n",
       "  cindy noonan cindynoonan heartbreak in  baltimore  rioting  yahistorical  undergroundrailraod                                 2   \n",
       "to fight bioterrorism sir                                                                                                       4   \n",
       " foodscare    nestleindia slips into loss after  magginoodle  ban unsafe and hazardous for  humanconsumption                    3   \n",
       "like for the music video i want some real action shit like burning buildings and police chases not some weak ben winston shit   2   \n",
       "  cree led work light  offroad lamp car truck boat mining  flood beam   full rea û                                              4   \n",
       "\n",
       "                                                                                                                               keyword  \\\n",
       "text                                                                                                                                     \n",
       "the dress memes have officially exploded on the internet                                                                             1   \n",
       "caution  breathing may be hazardous to your health                                                                                   1   \n",
       "truth      news  bbc  cnn  islam  truth  god  isis  terrorism  quran  lies                                                           1   \n",
       " world fedex no longer to transport bioterror germs in wake of anthrax lab mishaps                                                   1   \n",
       "why are you deluged with low self image  take the quiz                                                                               1   \n",
       "  cindy noonan cindynoonan heartbreak in  baltimore  rioting  yahistorical  undergroundrailraod                                      1   \n",
       "to fight bioterrorism sir                                                                                                            1   \n",
       " foodscare    nestleindia slips into loss after  magginoodle  ban unsafe and hazardous for  humanconsumption                         1   \n",
       "like for the music video i want some real action shit like burning buildings and police chases not some weak ben winston shit        2   \n",
       "  cree led work light  offroad lamp car truck boat mining  flood beam   full rea û                                                   1   \n",
       "\n",
       "                                                                                                                               location  \\\n",
       "text                                                                                                                                      \n",
       "the dress memes have officially exploded on the internet                                                                              1   \n",
       "caution  breathing may be hazardous to your health                                                                                    0   \n",
       "truth      news  bbc  cnn  islam  truth  god  isis  terrorism  quran  lies                                                            0   \n",
       " world fedex no longer to transport bioterror germs in wake of anthrax lab mishaps                                                    1   \n",
       "why are you deluged with low self image  take the quiz                                                                                2   \n",
       "  cindy noonan cindynoonan heartbreak in  baltimore  rioting  yahistorical  undergroundrailraod                                       2   \n",
       "to fight bioterrorism sir                                                                                                             0   \n",
       " foodscare    nestleindia slips into loss after  magginoodle  ban unsafe and hazardous for  humanconsumption                          2   \n",
       "like for the music video i want some real action shit like burning buildings and police chases not some weak ben winston shit         1   \n",
       "  cree led work light  offroad lamp car truck boat mining  flood beam   full rea û                                                    1   \n",
       "\n",
       "                                                                                                                               text  \\\n",
       "text                                                                                                                                  \n",
       "the dress memes have officially exploded on the internet                                                                          1   \n",
       "caution  breathing may be hazardous to your health                                                                                1   \n",
       "truth      news  bbc  cnn  islam  truth  god  isis  terrorism  quran  lies                                                        1   \n",
       " world fedex no longer to transport bioterror germs in wake of anthrax lab mishaps                                                1   \n",
       "why are you deluged with low self image  take the quiz                                                                            1   \n",
       "  cindy noonan cindynoonan heartbreak in  baltimore  rioting  yahistorical  undergroundrailraod                                   1   \n",
       "to fight bioterrorism sir                                                                                                         1   \n",
       " foodscare    nestleindia slips into loss after  magginoodle  ban unsafe and hazardous for  humanconsumption                      1   \n",
       "like for the music video i want some real action shit like burning buildings and police chases not some weak ben winston shit     1   \n",
       "  cree led work light  offroad lamp car truck boat mining  flood beam   full rea û                                                1   \n",
       "\n",
       "                                                                                                                               target  \n",
       "text                                                                                                                                   \n",
       "the dress memes have officially exploded on the internet                                                                            2  \n",
       "caution  breathing may be hazardous to your health                                                                                  2  \n",
       "truth      news  bbc  cnn  islam  truth  god  isis  terrorism  quran  lies                                                          2  \n",
       " world fedex no longer to transport bioterror germs in wake of anthrax lab mishaps                                                  2  \n",
       "why are you deluged with low self image  take the quiz                                                                              2  \n",
       "  cindy noonan cindynoonan heartbreak in  baltimore  rioting  yahistorical  undergroundrailraod                                     2  \n",
       "to fight bioterrorism sir                                                                                                           2  \n",
       " foodscare    nestleindia slips into loss after  magginoodle  ban unsafe and hazardous for  humanconsumption                        2  \n",
       "like for the music video i want some real action shit like burning buildings and police chases not some weak ben winston shit       2  \n",
       "  cree led work light  offroad lamp car truck boat mining  flood beam   full rea û                                                  2  "
      ]
     },
     "execution_count": 1054,
     "metadata": {},
     "output_type": "execute_result"
    }
   ],
   "source": [
    "trainC = trainB.copy()\n",
    "testC = testB.copy()\n",
    "\n",
    "pd.set_option('display.max_rows', None)\n",
    "mislabeled = trainC.groupby(['text']).nunique().sort_values(by='target', ascending=False)\n",
    "mislabeled = mislabeled[mislabeled['target'] > 1]\n",
    "mislabeled.head(10)"
   ]
  },
  {
   "cell_type": "markdown",
   "metadata": {},
   "source": [
    "Based on the table above, each row was run manually with the codes below and relabelled as either 1 or 0 based on the percentage of 1s for each sentence. For those with 50% or higher 1s, they weere relabeled as 1 (this was done manually because figuring out the code was not an easy task)."
   ]
  },
  {
   "cell_type": "code",
   "execution_count": 785,
   "metadata": {},
   "outputs": [],
   "source": [
    "# 6 out 46 mislabeled as 1\n",
    "trainC.loc[trainC['text'].str.contains(\"reddit\") & trainC['text'].str.contains('quarantine') & \n",
    "           trainC['text'].str.contains('content'), 'target'] = 0 \n",
    "# 5 out 17 mislabeled as 1\n",
    "trainC.loc[trainC['text'].str.contains(\"funtenna\") & trainC['text'].str.contains('funtenna') & \n",
    "           trainC['text'].str.contains('waves'), 'target'] = 0\n",
    "# 1 out of 3 mislabeled as 0\n",
    "trainC.loc[trainC['text'].str.contains(\"cleared\") & trainC['text'].str.contains('georgia') & \n",
    "           trainC['text'].str.contains('ave'), 'target'] = 1 \n",
    "# 1 out of 9 mislabeled as 1\n",
    "trainC.loc[trainC['text'].str.contains(\"black\") & trainC['text'].str.contains('eye') & \n",
    "           trainC['text'].str.contains('destroyed'), 'target'] = 0\n",
    "# 1 out of 8 mislabeled as 0 \n",
    "trainC.loc[trainC['text'].str.contains(\"hot\") & trainC['text'].str.contains('specially') & \n",
    "           trainC['text'].str.contains('prebreak'), 'target'] = 1\n",
    "# 1 out of 9 mislabeled as 1\n",
    "trainC.loc[trainC['text'].str.contains(\"spot\") & trainC['text'].str.contains('flood') & \n",
    "           trainC['text'].str.contains('combo'), 'target'] = 0\n",
    "# 1 out of 2 mislabeled as 0\n",
    "trainC.loc[trainC['text'].str.contains(\"accionempresa\") & trainC['text'].str.contains('sparked') & \n",
    "           trainC['text'].str.contains('interest'), 'target'] =1 \n",
    "# 1 out of 3 mislabeled as 1 \n",
    "trainC.loc[trainC['text'].str.contains(\"whipped\") & trainC['text'].str.contains('petition') & \n",
    "           trainC['text'].str.contains('owner'), 'target'] = 0\n",
    "# 1 out of 6 mislabeled as 1\n",
    "trainC.loc[trainC['text'].str.contains(\"detonate\") & trainC['text'].str.contains('feat') & \n",
    "           trainC['text'].str.contains('brown'), 'target'] = 0\n",
    "# 1 out of 3 mislabeled as 1\n",
    "trainC.loc[trainC['text'].str.contains(\"allah\") & trainC['text'].str.contains('description') & \n",
    "           trainC['text'].str.contains('people'), 'target']  = 0\n",
    "# 1 out of 2 mislabeled as 0\n",
    "trainC.loc[trainC['text'].str.contains(\"governor\") & trainC['text'].str.contains('weighs') & \n",
    "           trainC['text'].str.contains('parole'), 'target'] = 1\n",
    "# 1 out of 3 mislabeled as 1 \n",
    "trainC.loc[trainC['text'].str.contains(\"angry\") & trainC['text'].str.contains('woman') & \n",
    "           trainC['text'].str.contains('internally'), 'target'] = 0\n",
    "# 1 out of 2 mislabeled as 0\n",
    "trainC.loc[trainC['text'].str.contains(\"liked\") & trainC['text'].str.contains('youtube') & \n",
    "           trainC['text'].str.contains('itsjustinstuart'), 'target'] = 1\n",
    "# 3 out of 8 mislabeled as 1\n",
    "trainC.loc[trainC['text'].str.contains(\"park\") & trainC['text'].str.contains('services') & \n",
    "           trainC['text'].str.contains('annihilation'), 'target'] = 0\n",
    "# 6 out of 16 mislabeled as 1\n",
    "trainC.loc[trainC['text'].str.contains(\"china\") & trainC['text'].str.contains('stock') & \n",
    "           trainC['text'].str.contains('gems'), 'target'] = 0\n",
    "# 1 out of 2 mislabeled as 0\n",
    "trainC.loc[trainC['text'].str.contains(\"mmmmmm\") & trainC['text'].str.contains('burning') & \n",
    "           trainC['text'].str.contains('ooh'), 'target'] =1\n",
    "# 4 out of 13 mislabeled as 1\n",
    "trainC.loc[trainC['text'].str.contains(\"pandemonium\") & trainC['text'].str.contains('in') & \n",
    "           trainC['text'].str.contains('aba'), 'target'] = 0\n",
    "# 1 out of 2 mislabeled as 0\n",
    "trainC.loc[trainC['text'].str.contains(\"star\") & trainC['text'].str.contains('collection') & \n",
    "           trainC['text'].str.contains('hasbro'), 'target'] = 1\n",
    "# 1 out of 2 mislabeled as 0\n",
    "trainC.loc[trainC['text'].str.contains(\"choking\") & trainC['text'].str.contains('hazard') & \n",
    "           trainC['text'].str.contains('prompts'), 'target'] = 1\n",
    "# 1 out of 3 mislabeled as 1\n",
    "trainC.loc[trainC['text'].str.contains(\"detonation\") & trainC['text'].str.contains('mountaineering') & \n",
    "           trainC['text'].str.contains('leisure'), 'target'] = 0\n",
    "# 1 out of 2 mislabeled as 0 \n",
    "trainC.loc[trainC['text'].str.contains(\"kosciusko\") & trainC['text'].str.contains('pedestrian') & \n",
    "           trainC['text'].str.contains('fatality'), 'target'] = 1\n",
    "# 1 out of 8 mislabeled as 1\n",
    "trainC.loc[trainC['text'].str.contains(\"one\") & trainC['text'].str.contains('direction') & \n",
    "           trainC['text'].str.contains('pick'), 'target'] = 0\n",
    "# 3 out of 6 mislabeled as 0\n",
    "trainC.loc[trainC['text'].str.contains(\"look\") & trainC['text'].str.contains('actions') & \n",
    "           trainC['text'].str.contains('ferguson'), 'target'] = 1\n",
    "# 1 out of 3 mislabeled as 0\n",
    "trainC.loc[trainC['text'].str.contains(\"sassy\") & trainC['text'].str.contains('smoky') & \n",
    "           trainC['text'].str.contains('ibooklove'), 'target'] = 1\n",
    "# 1 out of 2 mislabeled as 0\n",
    "trainC.loc[trainC['text'].str.contains(\"do\") & trainC['text'].str.contains('sinking') & \n",
    "           trainC['text'].str.contains('image'), 'target'] = 1\n",
    "# 1 out of 2 mislabeled as 0\n",
    "trainC.loc[trainC['text'].str.contains(\"world\") & trainC['text'].str.contains('autobiography') & \n",
    "           trainC['text'].str.contains('general'), 'target'] = 1\n",
    "# 1 out of 12 mislabeled as 1\n",
    "trainC.loc[trainC['text'].str.contains(\"new\") & trainC['text'].str.contains('ladies') & \n",
    "           trainC['text'].str.contains('shoulder'), 'target'] = 0\n",
    "# 2 out of 6 mislabeled as 1\n",
    "trainC.loc[trainC['text'].str.contains(\"engulfed\") & trainC['text'].str.contains('came') & \n",
    "           trainC['text'].str.contains('prophetmuhammad'), 'target'] = 0\n",
    "# 1 out of 2 mislabeled as 0\n",
    "trainC.loc[trainC['text'].str.contains(\"australia\") & trainC['text'].str.contains('bridge') & \n",
    "           trainC['text'].str.contains('history'), 'target'] = 1\n",
    "# 5 out of 18 mislabeled as 0\n",
    "trainC.loc[trainC['text'].str.contains(\"fedex\") & trainC['text'].str.contains('bioterror') & \n",
    "           trainC['text'].str.contains('mishaps'), 'target'] = 1\n",
    "# 1 out of 4 mislabeled as 1\n",
    "trainC.loc[trainC['text'].str.contains(\"drunk\") & trainC['text'].str.contains('meals') & \n",
    "           trainC['text'].str.contains('obliterated'), 'target'] = 0\n",
    "# 1 out of 2 mislabeled as 0\n",
    "trainC.loc[trainC['text'].str.contains(\"world\") & trainC['text'].str.contains('annihilation') & \n",
    "           trainC['text'].str.contains('attack'), 'target'] = 1\n",
    "# 1 out of 3 mislabeled as 1\n",
    "trainC.loc[trainC['text'].str.contains(\"watch\") & trainC['text'].str.contains('sarah') & \n",
    "           trainC['text'].str.contains('palin'), 'target'] = 0\n",
    "# 1 out of 2 mislabeled as 0\n",
    "trainC.loc[trainC['text'].str.contains(\"here\") & trainC['text'].str.contains('pakistan') & \n",
    "           trainC['text'].str.contains('mohammed'), 'target'] = 1\n",
    "# 1 out of 2 mislabeled as 0\n",
    "trainC.loc[trainC['text'].str.contains(\"islam\") & trainC['text'].str.contains('hellfire') & \n",
    "           trainC['text'].str.contains('mention'), 'target'] = 1\n",
    "# 1 out of 5 mislabeled as 0\n",
    "trainC.loc[trainC['text'].str.contains(\"potus\") & trainC['text'].str.contains('strategicpatience') & \n",
    "           trainC['text'].str.contains('idp'), 'target'] = 1\n",
    "# 1 out of 2 mislabeled as 0\n",
    "trainC.loc[trainC['text'].str.contains(\"rt\") & trainC['text'].str.contains('notexplained') & \n",
    "           trainC['text'].str.contains('hijacker'), 'target'] = 1\n",
    "# 2 out of 7 mislabeled as 1\n",
    "trainC.loc[trainC['text'].str.contains(\"remove\") & trainC['text'].str.contains('linkury') & \n",
    "           trainC['text'].str.contains('hijacker'), 'target'] = 0\n",
    "# 1 out of 2 mislabeled as 0\n",
    "trainC.loc[trainC['text'].str.contains(\"islam\") & trainC['text'].str.contains('humans') & \n",
    "           trainC['text'].str.contains('terrorism'), 'target'] = 1\n",
    "# 1 out of 2 mislabeled as 0\n",
    "trainC.loc[trainC['text'].str.contains(\"survival\") & trainC['text'].str.contains('emergency') & \n",
    "           trainC['text'].str.contains('torch'), 'target'] =1\n",
    "# 1 out of 2 mislabeled as 0\n",
    "trainC.loc[trainC['text'].str.contains(\"fire\") & trainC['text'].str.contains('hazard') & \n",
    "           trainC['text'].str.contains('cbplawyers'), 'target'] = 1\n",
    "# 1 out of 5 mislabeled as 1\n",
    "trainC.loc[trainC['text'].str.contains(\"hellfire\") & trainC['text'].str.contains('desires') & \n",
    "           trainC['text'].str.contains('afterlife'), 'target'] = 0\n",
    "# 1 out of 5 mislabeled as 1\n",
    "trainC.loc[trainC['text'].str.contains(\"enugu\") & trainC['text'].str.contains('government') & \n",
    "           trainC['text'].str.contains('structures'), 'target'] = 0\n",
    "# 2 out of 6 mislabeled as 1\n",
    "trainC.loc[trainC['text'].str.contains(\"prophet\") & trainC['text'].str.contains('hellfire') & \n",
    "           trainC['text'].str.contains('charity'), 'target'] = 0\n",
    "# 1 out of 2 mislabeled as 0\n",
    "trainC.loc[trainC['text'].str.contains(\"wowo\") & trainC['text'].str.contains('repatriated') & \n",
    "           trainC['text'].str.contains('cameroon'), 'target'] = 1\n",
    "# 1 out of 4 mislabeled as 1\n",
    "trainC.loc[trainC['text'].str.contains(\"pbban\") & trainC['text'].str.contains('armageddon') & \n",
    "           trainC['text'].str.contains('reason'), 'target'] = 0\n",
    "# 1 out of 4 mislabeled as 1\n",
    "trainC.loc[trainC['text'].str.contains(\"cree\") & trainC['text'].str.contains('offroad') & \n",
    "           trainC['text'].str.contains('beam'), 'target'] = 0\n",
    "# 3 out of 7 mislabeled as 1\n",
    "trainC.loc[trainC['text'].str.contains(\"horrible\") & trainC['text'].str.contains('sinking') & \n",
    "           trainC['text'].str.contains('realise'), 'target'] = 0\n",
    "# 4 out of 16 mislabeled as 1\n",
    "trainC.loc[trainC['text'].str.contains(\"hollywood\") & trainC['text'].str.contains('movie') & \n",
    "           trainC['text'].str.contains('chile'), 'target'] = 0\n",
    "# 1 out of 2 mislabeled as 0\n",
    "trainC.loc[trainC['text'].str.contains(\"pledge\") & trainC['text'].str.contains('burning') & \n",
    "           trainC['text'].str.contains('buildings'), 'target'] = 1\n",
    "# 5 out of 20 mislabeled as 1\n",
    "trainC.loc[trainC['text'].str.contains(\"ignition\") & trainC['text'].str.contains('detonation') & \n",
    "           trainC['text'].str.contains('sensor'), 'target'] = 0\n",
    "# 1 out of 3 mislabeled as 1\n",
    "trainC.loc[trainC['text'].str.contains(\"bringing\") & trainC['text'].str.contains('farrakhan ') & \n",
    "           trainC['text'].str.contains('god'), 'target'] = 0\n",
    "# 1 out of 2 is mislabeled as 0\n",
    "trainC.loc[trainC['text'].str.contains(\"twia\") & trainC['text'].str.contains('windstorm') & \n",
    "           trainC['text'].str.contains('directors'), 'target'] = 1\n",
    "# 3 out of 10 mislabeled as 0\n",
    "trainC.loc[trainC['text'].str.contains(\"bayelsa\") & trainC['text'].str.contains('jonathan') & \n",
    "           trainC['text'].str.contains('plans'), 'target'] = 1\n",
    "# 1 out of 3 mislabeled as 1\n",
    "trainC.loc[trainC['text'] == 'the dress memes have officially exploded on the internet ', 'target'] = 0\n",
    "# 1 out of 2 mislabeled as 0\n",
    "trainC.loc[trainC['text'].str.contains(\"caution\") & trainC['text'].str.contains('breathing'), 'target'] = 1\n",
    "# 3 out of 7 mislabeled as 0\n",
    "trainC.loc[trainC['text'].str.contains(\"truth\") & trainC['text'].str.contains('islam'), 'target'] = 1\n",
    "# 1 out of 2 mislabeled as 0\n",
    "trainC.loc[trainC['text'].str.contains(\"deluged\") & trainC['text'].str.contains('quiz') & \n",
    "           trainC['text'].str.contains('why'), 'target'] = 1\n",
    "# 1 out of 2 mislabeled as 0\n",
    "trainC.loc[trainC['text'].str.contains(\"cindy\") & trainC['text'].str.contains('noonan') & \n",
    "           trainC['text'].str.contains('heartbreak') , 'target'] = 1\n",
    "# 2 out of 4 mislabeled as 0\n",
    "trainC.loc[trainC['text'].str.contains(\"fight\") & trainC['text'].str.contains('bioterrorism') & \n",
    "           trainC['text'].str.contains('sir'), 'target'] = 1\n",
    "# 1 out of 3 mislabeled as 0\n",
    "trainC.loc[trainC['text'].str.contains(\"foodscare\") & trainC['text'].str.contains('nestleindia') & \n",
    "           trainC['text'].str.contains('magginoodle'), 'target'] = 1\n",
    "# 1 out of 2 mislabeled as 0\n",
    "trainC.loc[trainC['text'].str.contains(\"burning\") & trainC['text'].str.contains('buildings') & \n",
    "           trainC['text'].str.contains('winston'), 'target'] = 1"
   ]
  },
  {
   "cell_type": "code",
   "execution_count": null,
   "metadata": {},
   "outputs": [],
   "source": [
    "count_vectorizer = feature_extraction.text.CountVectorizer(token_pattern=r'\\w{1,}', ngram_range=(1, 2), stop_words = stopwords)\n",
    "\n",
    "train_vectors = count_vectorizer.fit_transform(trainC[\"text\"])\n",
    "test_vectors = count_vectorizer.transform(testC[\"text\"])\n",
    "\n",
    "lgr = LogisticRegression()\n",
    "scores = model_selection.cross_val_score(lgr, train_vectors, trainC[\"target\"], cv=5, scoring=\"f1\")\n",
    "scores"
   ]
  },
  {
   "cell_type": "code",
   "execution_count": 463,
   "metadata": {},
   "outputs": [],
   "source": [
    "lgr.fit(train_vectors, trainC[\"target\"])\n",
    "submission[\"target\"] = lgr.predict(test_vectors)\n",
    "submission.to_csv(\"submission14.csv\", index=False)"
   ]
  },
  {
   "cell_type": "markdown",
   "metadata": {},
   "source": [
    "This did not work, it did not imporve the score. Score was 0.80470."
   ]
  },
  {
   "cell_type": "markdown",
   "metadata": {},
   "source": [
    "### 5.4 Using the Keyword column to improve the performance\n",
    "So far we had only been using the text to classify our Tweets. What if we tweaked the predictions a little bit by using the Keyword column provided in the dataset?\n",
    "We do so by looking at the probability that a keyword point to a disaster-related Tweet. We then set a treshold of 90% for this probability and look at our best predictions. If the ones with this probability of 90% or higher are classified as not real disaster Tweets, we change those predictions (we were inspired by  [Mohsen Yazdinejad](https://www.kaggle.com/bandits/using-keywords-for-prediction-improvement)."
   ]
  },
  {
   "cell_type": "code",
   "execution_count": 508,
   "metadata": {},
   "outputs": [
    {
     "data": {
      "text/html": [
       "<div>\n",
       "<style scoped>\n",
       "    .dataframe tbody tr th:only-of-type {\n",
       "        vertical-align: middle;\n",
       "    }\n",
       "\n",
       "    .dataframe tbody tr th {\n",
       "        vertical-align: top;\n",
       "    }\n",
       "\n",
       "    .dataframe thead th {\n",
       "        text-align: right;\n",
       "    }\n",
       "</style>\n",
       "<table border=\"1\" class=\"dataframe\">\n",
       "  <thead>\n",
       "    <tr style=\"text-align: right;\">\n",
       "      <th></th>\n",
       "      <th>Count</th>\n",
       "      <th>Probability of Real Disaster</th>\n",
       "    </tr>\n",
       "    <tr>\n",
       "      <th>keyword</th>\n",
       "      <th></th>\n",
       "      <th></th>\n",
       "    </tr>\n",
       "  </thead>\n",
       "  <tbody>\n",
       "    <tr>\n",
       "      <th>wreckage</th>\n",
       "      <td>39</td>\n",
       "      <td>1.000000</td>\n",
       "    </tr>\n",
       "    <tr>\n",
       "      <th>debris</th>\n",
       "      <td>37</td>\n",
       "      <td>1.000000</td>\n",
       "    </tr>\n",
       "    <tr>\n",
       "      <th>derailment</th>\n",
       "      <td>39</td>\n",
       "      <td>1.000000</td>\n",
       "    </tr>\n",
       "    <tr>\n",
       "      <th>outbreak</th>\n",
       "      <td>40</td>\n",
       "      <td>0.975000</td>\n",
       "    </tr>\n",
       "    <tr>\n",
       "      <th>oil%20spill</th>\n",
       "      <td>38</td>\n",
       "      <td>0.973684</td>\n",
       "    </tr>\n",
       "    <tr>\n",
       "      <th>typhoon</th>\n",
       "      <td>38</td>\n",
       "      <td>0.973684</td>\n",
       "    </tr>\n",
       "    <tr>\n",
       "      <th>suicide%20bombing</th>\n",
       "      <td>33</td>\n",
       "      <td>0.969697</td>\n",
       "    </tr>\n",
       "    <tr>\n",
       "      <th>suicide%20bomber</th>\n",
       "      <td>31</td>\n",
       "      <td>0.967742</td>\n",
       "    </tr>\n",
       "    <tr>\n",
       "      <th>bombing</th>\n",
       "      <td>29</td>\n",
       "      <td>0.931034</td>\n",
       "    </tr>\n",
       "    <tr>\n",
       "      <th>suicide%20bomb</th>\n",
       "      <td>35</td>\n",
       "      <td>0.914286</td>\n",
       "    </tr>\n",
       "    <tr>\n",
       "      <th>rescuers</th>\n",
       "      <td>35</td>\n",
       "      <td>0.914286</td>\n",
       "    </tr>\n",
       "    <tr>\n",
       "      <th>nuclear%20disaster</th>\n",
       "      <td>34</td>\n",
       "      <td>0.911765</td>\n",
       "    </tr>\n",
       "    <tr>\n",
       "      <th>evacuated</th>\n",
       "      <td>36</td>\n",
       "      <td>0.888889</td>\n",
       "    </tr>\n",
       "    <tr>\n",
       "      <th>razed</th>\n",
       "      <td>35</td>\n",
       "      <td>0.885714</td>\n",
       "    </tr>\n",
       "    <tr>\n",
       "      <th>wildfire</th>\n",
       "      <td>33</td>\n",
       "      <td>0.878788</td>\n",
       "    </tr>\n",
       "  </tbody>\n",
       "</table>\n",
       "</div>"
      ],
      "text/plain": [
       "                    Count  Probability of Real Disaster\n",
       "keyword                                                \n",
       "wreckage               39                      1.000000\n",
       "debris                 37                      1.000000\n",
       "derailment             39                      1.000000\n",
       "outbreak               40                      0.975000\n",
       "oil%20spill            38                      0.973684\n",
       "typhoon                38                      0.973684\n",
       "suicide%20bombing      33                      0.969697\n",
       "suicide%20bomber       31                      0.967742\n",
       "bombing                29                      0.931034\n",
       "suicide%20bomb         35                      0.914286\n",
       "rescuers               35                      0.914286\n",
       "nuclear%20disaster     34                      0.911765\n",
       "evacuated              36                      0.888889\n",
       "razed                  35                      0.885714\n",
       "wildfire               33                      0.878788"
      ]
     },
     "execution_count": 508,
     "metadata": {},
     "output_type": "execute_result"
    }
   ],
   "source": [
    "trainE = trainB.copy()\n",
    "trainE = trainE.fillna('Other')\n",
    "calculation = trainE.groupby('keyword').agg({'text':np.size, 'target':np.mean}).rename(columns={'text':'Count', 'target':'Probability of Real Disaster'})\n",
    "calculation.sort_values('Probability of Real Disaster', ascending=False).head(15)"
   ]
  },
  {
   "cell_type": "markdown",
   "metadata": {},
   "source": [
    "We see that we have 12 keywords above this 90% treshold and that appear many times (around 30 times each). Those are the ones we deem important and thus we will use them to modify our initial submission in 5.2."
   ]
  },
  {
   "cell_type": "code",
   "execution_count": 512,
   "metadata": {},
   "outputs": [],
   "source": [
    "keyword_treshold = list(calculation[(calculation['Count']>10) & (calculation['Probability of Real Disaster']>=0.9)].index)"
   ]
  },
  {
   "cell_type": "code",
   "execution_count": 513,
   "metadata": {},
   "outputs": [],
   "source": [
    "submission_modified = pd.read_csv('submission13.csv')\n",
    "ids = testE['id'][testE.keyword.isin(keyword_treshold)].values\n",
    "submission_modified['target'][submission_modified['id'].isin(ids)] = 1\n",
    "submission_modified.to_csv(\"submission17.csv\", index=False)"
   ]
  },
  {
   "cell_type": "markdown",
   "metadata": {},
   "source": [
    "The performance did improve to 0.81288 and is the best one so far.\n",
    "We believe that manually setting this treshold to 0.9 is maybe not the best way to do it. So instead getting the predictions from the model and changing the output, we could get the probabilities. And then we would train a new model with 2 input variables, one the probability from the initial model and second being the keyword. In this way the model can learn the optimum thresholds and also decide on the weights for both inputs instead of blindly overwriting the output. We will explore this in the next approaches."
   ]
  },
  {
   "cell_type": "markdown",
   "metadata": {},
   "source": [
    "### 5.5 Conclusion Approach I\n",
    "\n",
    "Until now, our model was based on 3 pillars:\n",
    "\n",
    "1. Cleaning step (removing URLs, HTML tags, special characters, etc)\n",
    "2. Removing stopwords \n",
    "3. Using Unigram and Bigrams generators \n",
    "\n",
    "And the best score after the modification of the predictions with the consideration of the keywords' probability was 0.81288.\n",
    "\n",
    "Other ideas like changing mislabeled entries after the transformations did not work but could be beneficial in the next approaches.\n",
    "\n",
    "## 6. Approach II: Tokenization, Stemming, Lematization and  TF - IDF\n",
    "\n",
    "So far, we have only used basic processing ideas.\n",
    "In this second approach, we built on top of the fundations of Approach I to try to get better results.\n",
    "This approach will include the following steps:\n",
    "\n",
    "- Cleaning (same steps as in Approach I)\n",
    "- Tokenization, Stemming, and Lematization \n",
    "- TF - IDF\n",
    "- New approach to including the keywords \n",
    "- Using SVM and Logistic Regression"
   ]
  },
  {
   "cell_type": "markdown",
   "metadata": {},
   "source": [
    "### 6.1 Pre-cleaning\n",
    "\n",
    "As mentionned above, we start from the cleaned data we got after running the cleaning functions defined above. We thus make a copy of trainB and testB (the cleaned datasets)."
   ]
  },
  {
   "cell_type": "code",
   "execution_count": 921,
   "metadata": {},
   "outputs": [],
   "source": [
    "trainD = trainB.copy()\n",
    "testD = testB.copy()"
   ]
  },
  {
   "cell_type": "markdown",
   "metadata": {},
   "source": [
    "### 6.2 Tokenization, Stemming, and Lematization\n",
    "This approach contains more data normalization that the previous one. Before being able to use normalization techniques, we have to tokenize the text (split the Tweets into array of words). Then, we will be able to apply stemming (reducing the words to their root form) and lematizing (grouping together the inflected forms of a word so in order to analyse them as a single element). We also, like in the preceding approach, remove the stopwords (for this section, we were inspired by the code of [Regis](https://www.kaggle.com/rerere/disaster-tweets-svm#Text-preprocessing---Normalization))."
   ]
  },
  {
   "cell_type": "code",
   "execution_count": 922,
   "metadata": {},
   "outputs": [],
   "source": [
    "from nltk.corpus import stopwords\n",
    "stop_words = set(stopwords.words(\"english\"))\n",
    "p_stemmer = PorterStemmer()\n",
    "wn_lemmatizer = WordNetLemmatizer()\n",
    "\n",
    "def normalising(text):\n",
    "    elements = word_tokenize(text)     # We tokenize into array of words\n",
    "    elements = [word.lower() for word in elements]\n",
    "    list_words = [word for word in elements if word.isalpha()] # We remove the elements that are not alphabetic\n",
    "    list_words = [word for word in list_words if not word in stop_words] # We remove the stopwords\n",
    "    stemmed_words = [p_stemmer.stem(word) for word in list_words] # We reduce the words to their root\n",
    "    stemmed_and_lematized = [wn_lemmatizer.lemmatize(word) for word in stemmed_words] # # We lematize the words \n",
    "    return stemmed_and_lematized\n",
    "\n",
    "trainD[\"text\"] = trainD.text.apply(normalising)\n",
    "testD[\"text\"] = testD.text.apply(normalising)"
   ]
  },
  {
   "cell_type": "code",
   "execution_count": 923,
   "metadata": {},
   "outputs": [
    {
     "data": {
      "text/html": [
       "<div>\n",
       "<style scoped>\n",
       "    .dataframe tbody tr th:only-of-type {\n",
       "        vertical-align: middle;\n",
       "    }\n",
       "\n",
       "    .dataframe tbody tr th {\n",
       "        vertical-align: top;\n",
       "    }\n",
       "\n",
       "    .dataframe thead th {\n",
       "        text-align: right;\n",
       "    }\n",
       "</style>\n",
       "<table border=\"1\" class=\"dataframe\">\n",
       "  <thead>\n",
       "    <tr style=\"text-align: right;\">\n",
       "      <th></th>\n",
       "      <th>id</th>\n",
       "      <th>keyword</th>\n",
       "      <th>location</th>\n",
       "      <th>text</th>\n",
       "      <th>target</th>\n",
       "    </tr>\n",
       "  </thead>\n",
       "  <tbody>\n",
       "    <tr>\n",
       "      <th>0</th>\n",
       "      <td>1</td>\n",
       "      <td>NaN</td>\n",
       "      <td>NaN</td>\n",
       "      <td>[deed, reason, earthquak, may, allah, forgiv, u]</td>\n",
       "      <td>1</td>\n",
       "    </tr>\n",
       "    <tr>\n",
       "      <th>1</th>\n",
       "      <td>4</td>\n",
       "      <td>NaN</td>\n",
       "      <td>NaN</td>\n",
       "      <td>[forest, fire, near, la, rong, sask, canada]</td>\n",
       "      <td>1</td>\n",
       "    </tr>\n",
       "    <tr>\n",
       "      <th>2</th>\n",
       "      <td>5</td>\n",
       "      <td>NaN</td>\n",
       "      <td>NaN</td>\n",
       "      <td>[resid, ask, shelter, place, notifi, offic, evacu, shelter, place, order, expect]</td>\n",
       "      <td>1</td>\n",
       "    </tr>\n",
       "    <tr>\n",
       "      <th>3</th>\n",
       "      <td>6</td>\n",
       "      <td>NaN</td>\n",
       "      <td>NaN</td>\n",
       "      <td>[peopl, receiv, wildfir, evacu, order, california]</td>\n",
       "      <td>1</td>\n",
       "    </tr>\n",
       "    <tr>\n",
       "      <th>4</th>\n",
       "      <td>7</td>\n",
       "      <td>NaN</td>\n",
       "      <td>NaN</td>\n",
       "      <td>[got, sent, photo, rubi, alaska, smoke, wildfir, pour, school]</td>\n",
       "      <td>1</td>\n",
       "    </tr>\n",
       "  </tbody>\n",
       "</table>\n",
       "</div>"
      ],
      "text/plain": [
       "   id keyword location  \\\n",
       "0   1     NaN      NaN   \n",
       "1   4     NaN      NaN   \n",
       "2   5     NaN      NaN   \n",
       "3   6     NaN      NaN   \n",
       "4   7     NaN      NaN   \n",
       "\n",
       "                                                                                text  \\\n",
       "0                                   [deed, reason, earthquak, may, allah, forgiv, u]   \n",
       "1                                       [forest, fire, near, la, rong, sask, canada]   \n",
       "2  [resid, ask, shelter, place, notifi, offic, evacu, shelter, place, order, expect]   \n",
       "3                                 [peopl, receiv, wildfir, evacu, order, california]   \n",
       "4                     [got, sent, photo, rubi, alaska, smoke, wildfir, pour, school]   \n",
       "\n",
       "   target  \n",
       "0       1  \n",
       "1       1  \n",
       "2       1  \n",
       "3       1  \n",
       "4       1  "
      ]
     },
     "execution_count": 923,
     "metadata": {},
     "output_type": "execute_result"
    }
   ],
   "source": [
    "trainD.head()"
   ]
  },
  {
   "cell_type": "markdown",
   "metadata": {},
   "source": [
    "### 6.3 Including the keywords into the text\n",
    "For including the keywords, unlike the preceding approach, we decided to use another method. Instead of editing the predictions, we add the keywords to the beginning of the Tweets."
   ]
  },
  {
   "cell_type": "code",
   "execution_count": 924,
   "metadata": {},
   "outputs": [
    {
     "data": {
      "text/html": [
       "<div>\n",
       "<style scoped>\n",
       "    .dataframe tbody tr th:only-of-type {\n",
       "        vertical-align: middle;\n",
       "    }\n",
       "\n",
       "    .dataframe tbody tr th {\n",
       "        vertical-align: top;\n",
       "    }\n",
       "\n",
       "    .dataframe thead th {\n",
       "        text-align: right;\n",
       "    }\n",
       "</style>\n",
       "<table border=\"1\" class=\"dataframe\">\n",
       "  <thead>\n",
       "    <tr style=\"text-align: right;\">\n",
       "      <th></th>\n",
       "      <th>id</th>\n",
       "      <th>keyword</th>\n",
       "      <th>location</th>\n",
       "      <th>text</th>\n",
       "      <th>target</th>\n",
       "    </tr>\n",
       "  </thead>\n",
       "  <tbody>\n",
       "    <tr>\n",
       "      <th>641</th>\n",
       "      <td>930</td>\n",
       "      <td>blaze</td>\n",
       "      <td>NaN</td>\n",
       "      <td>blaze pool day raisinfing</td>\n",
       "      <td>0</td>\n",
       "    </tr>\n",
       "    <tr>\n",
       "      <th>3678</th>\n",
       "      <td>5233</td>\n",
       "      <td>fatality</td>\n",
       "      <td>Grand Rapids MI</td>\n",
       "      <td>fatality fatalityu need team need one</td>\n",
       "      <td>0</td>\n",
       "    </tr>\n",
       "    <tr>\n",
       "      <th>2406</th>\n",
       "      <td>3464</td>\n",
       "      <td>derailed</td>\n",
       "      <td>Kwara, Nigeria</td>\n",
       "      <td>derailed use exactli nation assembl honestli worthless derail</td>\n",
       "      <td>0</td>\n",
       "    </tr>\n",
       "    <tr>\n",
       "      <th>237</th>\n",
       "      <td>337</td>\n",
       "      <td>annihilated</td>\n",
       "      <td>University of Toronto</td>\n",
       "      <td>annihilated sirbrandonknt exactli lesnar cena match summerslam last year great brock annihil guy</td>\n",
       "      <td>0</td>\n",
       "    </tr>\n",
       "    <tr>\n",
       "      <th>5121</th>\n",
       "      <td>7302</td>\n",
       "      <td>nuclear reactor</td>\n",
       "      <td>NaN</td>\n",
       "      <td>nuclear reactor quick fact nuclear reactor come oper u year</td>\n",
       "      <td>0</td>\n",
       "    </tr>\n",
       "  </tbody>\n",
       "</table>\n",
       "</div>"
      ],
      "text/plain": [
       "        id          keyword               location  \\\n",
       "641    930            blaze                    NaN   \n",
       "3678  5233         fatality        Grand Rapids MI   \n",
       "2406  3464         derailed         Kwara, Nigeria   \n",
       "237    337      annihilated  University of Toronto   \n",
       "5121  7302  nuclear reactor                    NaN   \n",
       "\n",
       "                                                                                                  text  \\\n",
       "641                                                                          blaze pool day raisinfing   \n",
       "3678                                                             fatality fatalityu need team need one   \n",
       "2406                                     derailed use exactli nation assembl honestli worthless derail   \n",
       "237   annihilated sirbrandonknt exactli lesnar cena match summerslam last year great brock annihil guy   \n",
       "5121                                       nuclear reactor quick fact nuclear reactor come oper u year   \n",
       "\n",
       "      target  \n",
       "641        0  \n",
       "3678       0  \n",
       "2406       0  \n",
       "237        0  \n",
       "5121       0  "
      ]
     },
     "execution_count": 924,
     "metadata": {},
     "output_type": "execute_result"
    }
   ],
   "source": [
    "def make_list(data):\n",
    "    return \" \".join(data)\n",
    "trainD[\"text\"] = trainD[\"text\"].apply(make_list) # We go from arrays back to sentences\n",
    "testD[\"text\"] = testD[\"text\"].apply(make_list)\n",
    "\n",
    "def normalise_keywords(word):\n",
    "    return word.split('%20')\n",
    "\n",
    "trainD[\"keyword\"] = trainD['keyword'].fillna(\" \") # We replace the missing values in the keyword column by an empty field\n",
    "testD[\"keyword\"] = testD['keyword'].fillna(\" \")\n",
    "\n",
    "trainD[\"keyword\"] = trainD[\"keyword\"].apply(normalise_keywords).apply(make_list) # We normalise the keywords and make them into normal sentences\n",
    "testD[\"keyword\"] = testD[\"keyword\"].apply(normalise_keywords).apply(make_list)\n",
    "\n",
    "trainD[\"text\"] = trainD[\"keyword\"] + \" \" + trainD[\"text\"] # We add the keywords to the Tweets\n",
    "testD[\"text\"] = testD[\"keyword\"] + \" \" + testD[\"text\"] \n",
    "trainD.sample(5)"
   ]
  },
  {
   "cell_type": "markdown",
   "metadata": {},
   "source": [
    "### 6.4 TF - IDF\n",
    "\n",
    "In the previous approach, we used CountVectorizer, with which we use the counts of the words for our model. Here, with the TFIDF approach, we take the relative importance of the terms in the entire corpus. \n",
    "\n",
    "The 'TF' stands for the normalized Term Frequency. In other words, the scoring of the frequency of the word in the Tweet (its formula is Term Frequency = (Number of times the word appears in a Tweet)/(Number of words in the Tweet)).\n",
    "\n",
    "And the 'IDF' stands for Inverse Document Frequency. It is the scoring of how rare the word is across the Tweet (its formula is Inverse Document Frequency = 1+log(N/n), where N is the number of Tweets and n is the number of Tweets a word has appeared in)."
   ]
  },
  {
   "cell_type": "code",
   "execution_count": 865,
   "metadata": {},
   "outputs": [],
   "source": [
    "all_data = pd.concat([trainD[\"text\"], testD[\"text\"]]) # We put the train and test data together\n",
    "\n",
    "tfidf = TfidfVectorizer(stop_words = 'english')\n",
    "tfidf.fit(all_data)\n",
    "X = tfidf.transform(trainD[\"text\"])\n",
    "X_test = tfidf.transform(testD[\"text\"])\n",
    "del all_data\n",
    "\n",
    "train, test = train_test_split(trainD, test_size=0.2)\n",
    "train_x = trainD[\"text\"]\n",
    "train_y = trainD[\"target\"]\n",
    "test_x = testD[\"text\"]\n",
    "test_y = test[\"target\"]\n",
    "\n",
    "X_train, X_val, y_train, y_val = train_test_split(X, trainD[\"target\"], test_size=0.1, random_state=42)"
   ]
  },
  {
   "cell_type": "markdown",
   "metadata": {},
   "source": [
    "### 6.5 Running a SVM model with GridSearch"
   ]
  },
  {
   "cell_type": "code",
   "execution_count": 856,
   "metadata": {},
   "outputs": [],
   "source": [
    "parameters = { 'gamma': [0.001, 0.01, 0.1, 0.4, 0.5, 0.6, 0.7, 1], 'kernel': ['rbf'], 'C': [0.001, 0.01, 0.1, 1, 1.5, 2, 3, 10],}"
   ]
  },
  {
   "cell_type": "code",
   "execution_count": 857,
   "metadata": {},
   "outputs": [
    {
     "name": "stderr",
     "output_type": "stream",
     "text": [
      "/Users/mohamedkhanafer/anaconda3/lib/python3.7/site-packages/joblib/externals/loky/process_executor.py:706: UserWarning: A worker stopped while some jobs were given to the executor. This can be caused by a too short worker timeout or by a memory leak.\n",
      "  \"timeout or by a memory leak.\", UserWarning\n"
     ]
    }
   ],
   "source": [
    "model = GridSearchCV(SVC(), parameters, cv=10, n_jobs=-1).fit(X_train, y_train)"
   ]
  },
  {
   "cell_type": "code",
   "execution_count": 858,
   "metadata": {},
   "outputs": [
    {
     "data": {
      "text/plain": [
       "(0.800524934383202, 0.7483443708609272)"
      ]
     },
     "execution_count": 858,
     "metadata": {},
     "output_type": "execute_result"
    }
   ],
   "source": [
    "y_val_pred = model.predict(X_val)\n",
    "accuracy_score(y_val, y_val_pred), f1_score(y_val, y_val_pred)"
   ]
  },
  {
   "cell_type": "code",
   "execution_count": 859,
   "metadata": {},
   "outputs": [],
   "source": [
    "y_test_pred = model.predict(X_test)"
   ]
  },
  {
   "cell_type": "code",
   "execution_count": 860,
   "metadata": {},
   "outputs": [],
   "source": [
    "submission[\"target\"] = y_test_pred\n",
    "submission.to_csv(\"submission22.csv\", index=False)"
   ]
  },
  {
   "cell_type": "markdown",
   "metadata": {},
   "source": [
    "This submission yields a score of 0.81697 on the Leaderboard, our highest score so far. We can thus see that these further normalization techniques and the TF-IDF approach yielded a better result."
   ]
  },
  {
   "cell_type": "markdown",
   "metadata": {},
   "source": [
    "### 6.6 Running a Logistic Regression model with Hyperparameter tunning\n",
    "(Here, we were inspired by [Enes Polat](https://www.kaggle.com/enespolat/grid-search-with-logistic-regression)'s approach for the GridSearch for the logistic regression)"
   ]
  },
  {
   "cell_type": "code",
   "execution_count": null,
   "metadata": {},
   "outputs": [],
   "source": [
    "grid={\"C\":np.logspace(-3,3,7), \"penalty\":[\"l1\",\"l2\"]}\n",
    "logreg=LogisticRegression()\n",
    "logreg_cv=GridSearchCV(logreg,grid,cv=10)\n",
    "logreg_cv.fit(X_train,y_train)\n",
    "print(\"The tuned hpyerparameters :(best parameters) \",logreg_cv.best_params_)\n",
    "print(\"The accuracy :\",logreg_cv.best_score_)"
   ]
  },
  {
   "cell_type": "code",
   "execution_count": 572,
   "metadata": {},
   "outputs": [
    {
     "data": {
      "text/plain": [
       "LogisticRegression(C=1, class_weight=None, dual=False, fit_intercept=True,\n",
       "                   intercept_scaling=1, l1_ratio=None, max_iter=100,\n",
       "                   multi_class='auto', n_jobs=None, penalty='l2',\n",
       "                   random_state=None, solver='lbfgs', tol=0.0001, verbose=0,\n",
       "                   warm_start=False)"
      ]
     },
     "execution_count": 572,
     "metadata": {},
     "output_type": "execute_result"
    }
   ],
   "source": [
    "lg=LogisticRegression(C=1,penalty=\"l2\")\n",
    "lg.fit(X_train,y_train)"
   ]
  },
  {
   "cell_type": "code",
   "execution_count": 573,
   "metadata": {},
   "outputs": [
    {
     "data": {
      "text/plain": [
       "(0.7834645669291339, 0.72636815920398)"
      ]
     },
     "execution_count": 573,
     "metadata": {},
     "output_type": "execute_result"
    }
   ],
   "source": [
    "y_val_pred = lg.predict(X_val)\n",
    "accuracy_score(y_val, y_val_pred), f1_score(y_val, y_val_pred)"
   ]
  },
  {
   "cell_type": "code",
   "execution_count": 575,
   "metadata": {},
   "outputs": [],
   "source": [
    "y_test_pred = lg.predict(X_test)\n",
    "submission[\"target\"] = y_test_pred\n",
    "submission.to_csv(\"submission24.csv\",index=False)"
   ]
  },
  {
   "cell_type": "markdown",
   "metadata": {},
   "source": [
    "Surprisingly, the Logistic Regression performs worse here with a score on the Leaderboard of 0.79550."
   ]
  },
  {
   "cell_type": "markdown",
   "metadata": {},
   "source": [
    "### 6.7 Adding the words embeddings\n",
    "For a beetter understanding on how to implement embeddings, we used the explanation of [Prachi Chitnis](https://www.kaggle.com/prachichitnis/stack-tfidf-embedding-xgboost)."
   ]
  },
  {
   "cell_type": "code",
   "execution_count": 869,
   "metadata": {},
   "outputs": [],
   "source": [
    "embed = hub.load(\"https://tfhub.dev/google/universal-sentence-encoder/4\")\n",
    "train_embeddings = embed(trainD['text'])\n",
    "test_embeddings = embed(testD['text'])\n",
    "\n",
    "X_feat=sparse.csr_matrix(train_embeddings.numpy())\n",
    "X_test=sparse.csr_matrix(test_embeddings.numpy())"
   ]
  },
  {
   "cell_type": "code",
   "execution_count": 884,
   "metadata": {},
   "outputs": [
    {
     "data": {
      "text/plain": [
       "(0.8083989501312336, 0.7718750000000001)"
      ]
     },
     "execution_count": 884,
     "metadata": {},
     "output_type": "execute_result"
    }
   ],
   "source": [
    "X_train, X_val, y_train, y_val = train_test_split(X_feat, trainD[\"target\"], test_size=0.1, random_state=42)\n",
    "parameters = { 'gamma': [0.001, 0.01, 0.1, 0.4, 0.5, 0.6, 0.7, 1], 'kernel': ['rbf'], 'C': [0.001, 0.01, 0.1, 1, 1.5, 2, 3, 10],}\n",
    "model = GridSearchCV(SVC(), parameters, cv=10, n_jobs=-1).fit(X_train, y_train)\n",
    "y_val_pred = model.predict(X_val)\n",
    "accuracy_score(y_val, y_val_pred), f1_score(y_val, y_val_pred)"
   ]
  },
  {
   "cell_type": "code",
   "execution_count": 885,
   "metadata": {},
   "outputs": [],
   "source": [
    "y_test_pred = model.predict(X_test)\n",
    "submission[\"target\"] = y_test_pred\n",
    "submission.to_csv(\"submissionEmbedingsII.csv\", index=False)"
   ]
  },
  {
   "cell_type": "markdown",
   "metadata": {},
   "source": [
    "The submission of the Leaderboard yielded a score of 0.7950 and thus the embeddings do not add value here."
   ]
  },
  {
   "cell_type": "markdown",
   "metadata": {},
   "source": [
    "### 6.8 Trying POS Tagging "
   ]
  },
  {
   "cell_type": "code",
   "execution_count": 610,
   "metadata": {},
   "outputs": [],
   "source": [
    "trainH = trainB.copy()\n",
    "testH = testB.copy()"
   ]
  },
  {
   "cell_type": "code",
   "execution_count": 624,
   "metadata": {},
   "outputs": [],
   "source": [
    "def normalising2(text):\n",
    "    elements = word_tokenize(text)     # We tokenize into array of words\n",
    "    elements = [word.lower() for word in elements]\n",
    "    list_words = [word for word in elements if word.isalpha()] # We remove the elements that are not alphabetic\n",
    "    list_words = [word for word in list_words if not word in stop_words] # We remove the stopwords\n",
    "    #stemmed_words = [p_stemmer.stem(word) for word in list_words] # We reduce the words to their root\n",
    "    lematized_text = [wn_lemmatizer.lemmatize(word) for word in list_words] # # We lematize the words \n",
    "    return lematized_text\n",
    "\n",
    "trainH[\"new_text\"] = trainH.text.apply(normalising2)\n",
    "testH[\"new_text\"] = testH.text.apply(normalising2)"
   ]
  },
  {
   "cell_type": "code",
   "execution_count": 625,
   "metadata": {},
   "outputs": [],
   "source": [
    "# We use the POS tagging provided by NLTK\n",
    "trainH['POS'] = trainH['new_text'].apply(nltk.tag.pos_tag)\n",
    "testH['POS'] = testH['new_text'].apply(nltk.tag.pos_tag)"
   ]
  },
  {
   "cell_type": "code",
   "execution_count": 616,
   "metadata": {},
   "outputs": [
    {
     "data": {
      "text/html": [
       "<div>\n",
       "<style scoped>\n",
       "    .dataframe tbody tr th:only-of-type {\n",
       "        vertical-align: middle;\n",
       "    }\n",
       "\n",
       "    .dataframe tbody tr th {\n",
       "        vertical-align: top;\n",
       "    }\n",
       "\n",
       "    .dataframe thead th {\n",
       "        text-align: right;\n",
       "    }\n",
       "</style>\n",
       "<table border=\"1\" class=\"dataframe\">\n",
       "  <thead>\n",
       "    <tr style=\"text-align: right;\">\n",
       "      <th></th>\n",
       "      <th>id</th>\n",
       "      <th>keyword</th>\n",
       "      <th>location</th>\n",
       "      <th>text</th>\n",
       "      <th>target</th>\n",
       "      <th>new_text</th>\n",
       "      <th>POS</th>\n",
       "    </tr>\n",
       "  </thead>\n",
       "  <tbody>\n",
       "    <tr>\n",
       "      <th>0</th>\n",
       "      <td>1</td>\n",
       "      <td>NaN</td>\n",
       "      <td>NaN</td>\n",
       "      <td>our deeds are the reason of this  earthquake may allah forgive us all</td>\n",
       "      <td>1</td>\n",
       "      <td>[deed, reason, earthquake, may, allah, forgive, u]</td>\n",
       "      <td>[(deed, NN), (reason, NN), (earthquake, NN), (may, MD), (allah, VB), (forgive, JJ), (u, NN)]</td>\n",
       "    </tr>\n",
       "    <tr>\n",
       "      <th>1</th>\n",
       "      <td>4</td>\n",
       "      <td>NaN</td>\n",
       "      <td>NaN</td>\n",
       "      <td>forest fire near la ronge sask  canada</td>\n",
       "      <td>1</td>\n",
       "      <td>[forest, fire, near, la, ronge, sask, canada]</td>\n",
       "      <td>[(forest, JJS), (fire, NN), (near, IN), (la, JJ), (ronge, NN), (sask, NN), (canada, NN)]</td>\n",
       "    </tr>\n",
       "    <tr>\n",
       "      <th>2</th>\n",
       "      <td>5</td>\n",
       "      <td>NaN</td>\n",
       "      <td>NaN</td>\n",
       "      <td>all residents asked to  shelter in place  are being notified by officers  no other evacuation or shelter in place orders are expected</td>\n",
       "      <td>1</td>\n",
       "      <td>[resident, asked, shelter, place, notified, officer, evacuation, shelter, place, order, expected]</td>\n",
       "      <td>[(resident, NN), (asked, VBD), (shelter, JJ), (place, NN), (notified, JJ), (officer, NN), (evacuation, NN), (shelter, NN), (place, NN), (order, NN), (expected, VBD)]</td>\n",
       "    </tr>\n",
       "    <tr>\n",
       "      <th>3</th>\n",
       "      <td>6</td>\n",
       "      <td>NaN</td>\n",
       "      <td>NaN</td>\n",
       "      <td>people receive  wildfires evacuation orders in california</td>\n",
       "      <td>1</td>\n",
       "      <td>[people, receive, wildfire, evacuation, order, california]</td>\n",
       "      <td>[(people, NNS), (receive, VBP), (wildfire, NN), (evacuation, NN), (order, NN), (california, NN)]</td>\n",
       "    </tr>\n",
       "    <tr>\n",
       "      <th>4</th>\n",
       "      <td>7</td>\n",
       "      <td>NaN</td>\n",
       "      <td>NaN</td>\n",
       "      <td>just got sent this photo from ruby  alaska as smoke from  wildfires pours into a school</td>\n",
       "      <td>1</td>\n",
       "      <td>[got, sent, photo, ruby, alaska, smoke, wildfire, pours, school]</td>\n",
       "      <td>[(got, VBD), (sent, JJ), (photo, NN), (ruby, NN), (alaska, NN), (smoke, VBD), (wildfire, NN), (pours, NN), (school, NN)]</td>\n",
       "    </tr>\n",
       "  </tbody>\n",
       "</table>\n",
       "</div>"
      ],
      "text/plain": [
       "   id keyword location  \\\n",
       "0   1     NaN      NaN   \n",
       "1   4     NaN      NaN   \n",
       "2   5     NaN      NaN   \n",
       "3   6     NaN      NaN   \n",
       "4   7     NaN      NaN   \n",
       "\n",
       "                                                                                                                                    text  \\\n",
       "0                                                                  our deeds are the reason of this  earthquake may allah forgive us all   \n",
       "1                                                                                                 forest fire near la ronge sask  canada   \n",
       "2  all residents asked to  shelter in place  are being notified by officers  no other evacuation or shelter in place orders are expected   \n",
       "3                                                                             people receive  wildfires evacuation orders in california    \n",
       "4                                               just got sent this photo from ruby  alaska as smoke from  wildfires pours into a school    \n",
       "\n",
       "   target  \\\n",
       "0       1   \n",
       "1       1   \n",
       "2       1   \n",
       "3       1   \n",
       "4       1   \n",
       "\n",
       "                                                                                            new_text  \\\n",
       "0                                                 [deed, reason, earthquake, may, allah, forgive, u]   \n",
       "1                                                      [forest, fire, near, la, ronge, sask, canada]   \n",
       "2  [resident, asked, shelter, place, notified, officer, evacuation, shelter, place, order, expected]   \n",
       "3                                         [people, receive, wildfire, evacuation, order, california]   \n",
       "4                                   [got, sent, photo, ruby, alaska, smoke, wildfire, pours, school]   \n",
       "\n",
       "                                                                                                                                                                     POS  \n",
       "0                                                                           [(deed, NN), (reason, NN), (earthquake, NN), (may, MD), (allah, VB), (forgive, JJ), (u, NN)]  \n",
       "1                                                                               [(forest, JJS), (fire, NN), (near, IN), (la, JJ), (ronge, NN), (sask, NN), (canada, NN)]  \n",
       "2  [(resident, NN), (asked, VBD), (shelter, JJ), (place, NN), (notified, JJ), (officer, NN), (evacuation, NN), (shelter, NN), (place, NN), (order, NN), (expected, VBD)]  \n",
       "3                                                                       [(people, NNS), (receive, VBP), (wildfire, NN), (evacuation, NN), (order, NN), (california, NN)]  \n",
       "4                                               [(got, VBD), (sent, JJ), (photo, NN), (ruby, NN), (alaska, NN), (smoke, VBD), (wildfire, NN), (pours, NN), (school, NN)]  "
      ]
     },
     "execution_count": 616,
     "metadata": {},
     "output_type": "execute_result"
    }
   ],
   "source": [
    "trainH.head()"
   ]
  },
  {
   "cell_type": "code",
   "execution_count": 627,
   "metadata": {},
   "outputs": [
    {
     "name": "stderr",
     "output_type": "stream",
     "text": [
      "/Users/mohamedkhanafer/anaconda3/lib/python3.7/site-packages/sklearn/linear_model/_logistic.py:940: ConvergenceWarning: lbfgs failed to converge (status=1):\n",
      "STOP: TOTAL NO. of ITERATIONS REACHED LIMIT.\n",
      "\n",
      "Increase the number of iterations (max_iter) or scale the data as shown in:\n",
      "    https://scikit-learn.org/stable/modules/preprocessing.html\n",
      "Please also refer to the documentation for alternative solver options:\n",
      "    https://scikit-learn.org/stable/modules/linear_model.html#logistic-regression\n",
      "  extra_warning_msg=_LOGISTIC_SOLVER_CONVERGENCE_MSG)\n"
     ]
    }
   ],
   "source": [
    "# We assign the training and testing sets\n",
    "X_train, X_test, y_train, y_test = train_test_split(trainH['POS'], trainH['target'], test_size=0.20, random_state=20)\n",
    "\n",
    "# We can create a pipeline for a Logistic Regression\n",
    "lg_pipe = Pipeline([('vectorizer', CountVectorizer()), ('tfidf', TfidfTransformer()),('logreg', LogisticRegression(n_jobs=1))])\n",
    "lg_pipe = lg_pipe.fit(X_train.astype(str), y_train.astype(str))\n",
    "lg_pred = lg_pipe.predict(testH.POS.astype(str))\n",
    "        \n",
    "submission = pd.DataFrame(lg_pred, columns=['target'])\n",
    "submission = pd.concat([testH.id,submission], axis=1, ignore_index=True)\n",
    "submission = submission.rename(columns = {0:'id', 1: 'target'})\n",
    "submission.to_csv('submission25.csv', index=False)"
   ]
  },
  {
   "cell_type": "markdown",
   "metadata": {},
   "source": [
    "### 6.9 Discussion: the better approach for considering the Keywords\n",
    "In both Approach I and II, we use the keywords in different manners. \n",
    "Here, we try to use the same procedure as we did in Approach I, that of editing the predictions based on the probability of the keyword to indicate a disaster instead of adding the keyword to the text as we did."
   ]
  },
  {
   "cell_type": "code",
   "execution_count": 569,
   "metadata": {},
   "outputs": [
    {
     "data": {
      "text/plain": [
       "['bombing',\n",
       " 'debris',\n",
       " 'derailment',\n",
       " 'nuclear disaster',\n",
       " 'oil spill',\n",
       " 'outbreak',\n",
       " 'rescuers',\n",
       " 'suicide bomb',\n",
       " 'suicide bomber',\n",
       " 'suicide bombing',\n",
       " 'typhoon',\n",
       " 'wreckage']"
      ]
     },
     "execution_count": 569,
     "metadata": {},
     "output_type": "execute_result"
    }
   ],
   "source": [
    "calculation = trainD.groupby('keyword').agg({'text':np.size, 'target':np.mean}).rename(columns={'text':'Count', 'target':'Probability of Real Disaster'})\n",
    "calculation.sort_values('Probability of Real Disaster', ascending=False).head(15)\n",
    "keyword_treshold = list(calculation[(calculation['Count']>10) & (calculation['Probability of Real Disaster']>=0.9)].index)\n",
    "keyword_treshold"
   ]
  },
  {
   "cell_type": "code",
   "execution_count": 570,
   "metadata": {},
   "outputs": [],
   "source": [
    "submission_modified = pd.read_csv('submission22.csv')\n",
    "ids = testD['id'][testD.keyword.isin(keyword_list)].values\n",
    "submission_modified['target'][submission_modified['id'].isin(ids)] = 1\n",
    "submission_modified.to_csv(\"submission23.csv\", index=False)"
   ]
  },
  {
   "cell_type": "markdown",
   "metadata": {},
   "source": [
    "We get a lower score of 0.80163 and thus could say that adding the keywords to the text of the Tweet is a good (and maybe better) way to consider the keyword column."
   ]
  },
  {
   "cell_type": "markdown",
   "metadata": {},
   "source": [
    "## 7. Approach III: Better Preprocessing with correction of Spelling Mistakes\n",
    "Pre-processing is probably one of the most important steps when dealing with Tweets. We thus here focus on doing better pre-processing by correcting the spelling mistakes.\n",
    "To do this, we use the pyspellchecker library and the function developped by [Shahules786](https://www.kaggle.com/shahules/basic-eda-cleaning-and-glove). We then re-run several of the models established above to see the effect of this step. \n",
    "Before running the spelling corrections, we clean the tweets with our created function above and here add a function to fix the contractions (those were inspired by [Gunes Evitan](https://www.kaggle.com/gunesevitan/nlp-with-disaster-tweets-eda-cleaning-and-bert)).\n",
    "\n",
    "### 7.1 Running the Correct Spelling Function on the data"
   ]
  },
  {
   "cell_type": "code",
   "execution_count": null,
   "metadata": {},
   "outputs": [],
   "source": [
    "# This is the function for correcting the spelling mistakes\n",
    "def correct_spellings(data):\n",
    "    correct = []\n",
    "    misspelled = SpellChecker().unknown(data.split())\n",
    "    for word in data.split():\n",
    "        if word in misspelled:\n",
    "            correct.append(SpellChecker().correction(word))\n",
    "        else:\n",
    "            correct.append(word)\n",
    "    return \" \".join(correct)\n",
    "\n",
    "# This is the function for correcting the contractions\n",
    "def replace_contractions(data):\n",
    "    data = re.sub(r\"he's\", \"he is\", data)\n",
    "    data = re.sub(r\"there's\", \"there is\", data)\n",
    "    data = re.sub(r\"We're\", \"We are\", data)\n",
    "    data = re.sub(r\"That's\", \"That is\", data)\n",
    "    data = re.sub(r\"won't\", \"will not\", data)\n",
    "    data = re.sub(r\"they're\", \"they are\", data)\n",
    "    data = re.sub(r\"Can't\", \"Cannot\", data)\n",
    "    data = re.sub(r\"wasn't\", \"was not\", data)\n",
    "    data = re.sub(r\"don\\x89Ûªt\", \"do not\", data)\n",
    "    data = re.sub(r\"aren't\", \"are not\", data)\n",
    "    data = re.sub(r\"isn't\", \"is not\", data)\n",
    "    data = re.sub(r\"What's\", \"What is\", data)\n",
    "    data = re.sub(r\"haven't\", \"have not\", data)\n",
    "    data = re.sub(r\"hasn't\", \"has not\", data)\n",
    "    data = re.sub(r\"There's\", \"There is\", data)\n",
    "    data = re.sub(r\"He's\", \"He is\", data)\n",
    "    data = re.sub(r\"It's\", \"It is\", data)\n",
    "    data = re.sub(r\"You're\", \"You are\", data)\n",
    "    data = re.sub(r\"I'M\", \"I am\", data)\n",
    "    data = re.sub(r\"shouldn't\", \"should not\", data)\n",
    "    data = re.sub(r\"wouldn't\", \"would not\", data)\n",
    "    data = re.sub(r\"i'm\", \"I am\", data)\n",
    "    data = re.sub(r\"I\\x89Ûªm\", \"I am\", data)\n",
    "    data = re.sub(r\"I'm\", \"I am\", data)\n",
    "    data = re.sub(r\"Isn't\", \"is not\", data)\n",
    "    data = re.sub(r\"Here's\", \"Here is\", data)\n",
    "    data = re.sub(r\"you've\", \"you have\", data)\n",
    "    data = re.sub(r\"you\\x89Ûªve\", \"you have\", data)\n",
    "    data = re.sub(r\"we're\", \"we are\", data)\n",
    "    data = re.sub(r\"what's\", \"what is\", data)\n",
    "    data = re.sub(r\"couldn't\", \"could not\", data)\n",
    "    data = re.sub(r\"we've\", \"we have\", data)\n",
    "    data = re.sub(r\"it\\x89Ûªs\", \"it is\", data)\n",
    "    data = re.sub(r\"doesn\\x89Ûªt\", \"does not\", data)\n",
    "    data = re.sub(r\"It\\x89Ûªs\", \"It is\", data)\n",
    "    data = re.sub(r\"Here\\x89Ûªs\", \"Here is\", data)\n",
    "    data = re.sub(r\"who's\", \"who is\", data)\n",
    "    data = re.sub(r\"I\\x89Ûªve\", \"I have\", data)\n",
    "    data = re.sub(r\"y'all\", \"you all\", data)\n",
    "    data = re.sub(r\"can\\x89Ûªt\", \"cannot\", data)\n",
    "    data = re.sub(r\"would've\", \"would have\", data)\n",
    "    data = re.sub(r\"it'll\", \"it will\", data)\n",
    "    data = re.sub(r\"we'll\", \"we will\", data)\n",
    "    data = re.sub(r\"wouldn\\x89Ûªt\", \"would not\", data)\n",
    "    data = re.sub(r\"We've\", \"We have\", data)\n",
    "    data = re.sub(r\"he'll\", \"he will\", data)\n",
    "    data = re.sub(r\"Y'all\", \"You all\", data)\n",
    "    data = re.sub(r\"Weren't\", \"Were not\", data)\n",
    "    data = re.sub(r\"Didn't\", \"Did not\", data)\n",
    "    data = re.sub(r\"they'll\", \"they will\", data)\n",
    "    data = re.sub(r\"they'd\", \"they would\", data)\n",
    "    data = re.sub(r\"DON'T\", \"DO NOT\", data)\n",
    "    data = re.sub(r\"That\\x89Ûªs\", \"That is\", data)\n",
    "    data = re.sub(r\"they've\", \"they have\", data)\n",
    "    data = re.sub(r\"i'd\", \"I would\", data)\n",
    "    data = re.sub(r\"should've\", \"should have\", data)\n",
    "    data = re.sub(r\"You\\x89Ûªre\", \"You are\", data)\n",
    "    data = re.sub(r\"where's\", \"where is\", data)\n",
    "    data = re.sub(r\"Don\\x89Ûªt\", \"Do not\", data)\n",
    "    data = re.sub(r\"we'd\", \"we would\", data)\n",
    "    data = re.sub(r\"i'll\", \"I will\", data)\n",
    "    data = re.sub(r\"weren't\", \"were not\", data)\n",
    "    data = re.sub(r\"They're\", \"They are\", data)\n",
    "    data = re.sub(r\"Can\\x89Ûªt\", \"Cannot\", data)\n",
    "    data = re.sub(r\"you\\x89Ûªll\", \"you will\", data)\n",
    "    data = re.sub(r\"I\\x89Ûªd\", \"I would\", data)\n",
    "    data = re.sub(r\"let's\", \"let us\", data)\n",
    "    data = re.sub(r\"it's\", \"it is\", data)\n",
    "    data = re.sub(r\"can't\", \"cannot\", data)\n",
    "    data = re.sub(r\"don't\", \"do not\", data)\n",
    "    data = re.sub(r\"you're\", \"you are\", data)\n",
    "    data = re.sub(r\"i've\", \"I have\", data)\n",
    "    data = re.sub(r\"that's\", \"that is\", data)\n",
    "    data = re.sub(r\"i'll\", \"I will\", data)\n",
    "    data = re.sub(r\"doesn't\", \"does not\", data)\n",
    "    data = re.sub(r\"i'd\", \"I would\", data)\n",
    "    data = re.sub(r\"didn't\", \"did not\", data)\n",
    "    data = re.sub(r\"ain't\", \"am not\", data)\n",
    "    data = re.sub(r\"you'll\", \"you will\", data)\n",
    "    data = re.sub(r\"I've\", \"I have\", data)\n",
    "    data = re.sub(r\"Don't\", \"do not\", data)\n",
    "    data = re.sub(r\"I'll\", \"I will\", data)\n",
    "    data = re.sub(r\"I'd\", \"I would\", data)\n",
    "    data = re.sub(r\"Let's\", \"Let us\", data)\n",
    "    data = re.sub(r\"you'd\", \"You would\", data)\n",
    "    data = re.sub(r\"It's\", \"It is\", data)\n",
    "    data = re.sub(r\"Ain't\", \"am not\", data)\n",
    "    data = re.sub(r\"Haven't\", \"Have not\", data)\n",
    "    data = re.sub(r\"Could've\", \"Could have\", data)\n",
    "    data = re.sub(r\"youve\", \"you have\", data)  \n",
    "    data = re.sub(r\"donå«t\", \"do not\", data) \n",
    "    return data"
   ]
  },
  {
   "cell_type": "code",
   "execution_count": 978,
   "metadata": {},
   "outputs": [],
   "source": [
    "trainK = pd.read_csv('train.csv')\n",
    "testK = pd.read_csv('test.csv')\n",
    "\n",
    "trainK['text'] = trainK['text'].apply(lambda x : replace_contractions(x))\n",
    "testK['text'] = testK['text'].apply(lambda x : replace_contractions(x))\n",
    "\n",
    "trainK['text'] = trainK['text'].apply(lambda x : cleaning(x))\n",
    "testK['text'] = testK['text'].apply(lambda x : cleaning(x))\n",
    "\n",
    "# Applying the functions to the train data:\n",
    "trainK['text']=trainK['text'].apply(lambda x : correct_spellings(x))\n",
    "\n",
    "# Applying the functions to the test data:\n",
    "testK['text']=testK['text'].apply(lambda x : correct_spellings(x))\n",
    "\n",
    "# Because Processing this took up to 3 hours, we save the dataframes to csv format in case we want to reuse them\n",
    "trainK.to_csv(\"trainSpellingCorrected.csv\", index=False)\n",
    "testK.to_csv(\"testSpellingCorrected.csv\", index=False)"
   ]
  },
  {
   "cell_type": "markdown",
   "metadata": {},
   "source": [
    "### 7.2 Rerunning the models with the correct spelling\n",
    "We then decided to rerun all the models done so far to see if there were any improvements. And surprisingly, the simplest model developped first scored the highest.\n",
    "\n",
    "#### 7.2.1 Model 1 Rerun with spelling corrected\n",
    "The model rerun here is the one in Approach I, point 5.2:"
   ]
  },
  {
   "cell_type": "code",
   "execution_count": null,
   "metadata": {},
   "outputs": [],
   "source": [
    "train_Spl = trainK.copy()\n",
    "test_Spl = testK.copy()\n",
    "\n",
    "stopwords = stopwords.words('english')\n",
    "count_vectorizer = feature_extraction.text.CountVectorizer(token_pattern=r'\\w{1,}', ngram_range=(1, 2), stop_words = stopwords)\n",
    "\n",
    "train_vectors = count_vectorizer.fit_transform(train_Spl[\"text\"])\n",
    "test_vectors = count_vectorizer.transform(test_Spl[\"text\"])\n",
    "\n",
    "lgr = LogisticRegression()\n",
    "scores = model_selection.cross_val_score(lgr, train_vectors, train_Spl[\"target\"], cv=5, scoring=\"f1\")\n",
    "scores\n",
    "\n",
    "lgr.fit(train_vectors, train_Spl[\"target\"])\n",
    "submission[\"target\"] = lgr.predict(test_vectors)\n",
    "submission.to_csv(\"submission2b.csv\", index=False)"
   ]
  },
  {
   "cell_type": "markdown",
   "metadata": {},
   "source": [
    "This submission scored 0.8203! Given the simplicity of the model and the processing required this is a very interesting result!\n",
    "\n",
    "We then used the probabilities approach to adding the keywords effect for the prediction described in 5.4:"
   ]
  },
  {
   "cell_type": "code",
   "execution_count": null,
   "metadata": {},
   "outputs": [],
   "source": [
    "trainE = trainB.copy()\n",
    "trainE = trainE.fillna('Other')\n",
    "calculation = trainE.groupby('keyword').agg({'text':np.size, 'target':np.mean}).rename(columns={'text':'Count', 'target':'Probability of Real Disaster'})\n",
    "calculation.sort_values('Probability of Real Disaster', ascending=False).head(15)"
   ]
  },
  {
   "cell_type": "code",
   "execution_count": null,
   "metadata": {},
   "outputs": [],
   "source": [
    "keyword_treshold = list(calculation[(calculation['Count']>10) & (calculation['Probability of Real Disaster']>=0.9)].index)\n",
    "submission_modified = pd.read_csv('submission2b.csv')\n",
    "\n",
    "ids = testE['id'][testE.keyword.isin(keyword_treshold)].values\n",
    "submission_modified['target'][submission_modified['id'].isin(ids)] = 1\n",
    "submission_modified.to_csv(\"submissionKeyword2b.csv\", index=False)"
   ]
  },
  {
   "cell_type": "markdown",
   "metadata": {},
   "source": [
    "Using this approach to considering the keywords raised the score to 0.8231!\n",
    "\n",
    "We then run all the other models described in the preceding sections and none score higher than the previously attaigned scores."
   ]
  },
  {
   "cell_type": "markdown",
   "metadata": {},
   "source": [
    "## 8. Approach IV: Simple BERT implementation using the simpletransformers library\n",
    "\n",
    "After combining many traditionnal NLP processes and getting a fairly good score of 0.8167, we decided to take it a step further by exploring some more advanced libraries.\n",
    "One of the most used tools for numerous applications in NLP (like Classification, Question Answering, NER, etc) is Google's BERT (Bidirectional Encoder Representations from Transformers). It is a technique based on neural-network  for NLP pretraining.\n",
    "\n",
    "From what we understood, Google developped this neural network model that takes in as inputs the sentences from a document and generates as outputs contextualized sentence embeddings. \n",
    "Those embeddings would be sentences represented as vectors that capture the semantic meaning of the sentences.\n",
    "\n",
    "With further research, we understood that they did this by pretraining on BookCorpus (which is a dataset consisting of more than 10,000 books of different genres and around 2.5 Billion words from some Wikipedia texts).\n",
    "\n",
    "This makes BERT able to read text and encode them in a meaningful way.\n",
    "\n",
    "\n",
    "What makes BERT special is that it is a deeply bidirectional model. Here, bidirectional means that BERT is able to learn information coming from both the right and the left side of the specific context of the word during the training phase of the model.\n",
    "\n",
    "And this bidirectionality of the model is something crucial for getting to truly comprehend the meaning of a certain language.\n",
    "\n",
    "When it comes to its architecture, BERT builds on top of Transformers. Here, instead of going into the details of the model's architecture, we use the [simpletransformers library](https://github.com/ThilinaRajapakse/simpletransformers/) which allow us to  quickly train and evaluate Transformer models. They give access to pretrained BERT models that we will use below.\n",
    "\n",
    "And to better understand the behavior of the model, our approach is to run 3 different BERT models: \n",
    "1. Using the original unprocessed Tweets\n",
    "2. Using the cleaned Tweets\n",
    "3. Using the cleaned and normalized Tweets\n",
    "\n",
    "Here, we will be using the *bert-large-uncased* pretrained model which consists of 24-layer, 1024-hidden, 16-heads, and 340M parameters. Further documentation on this model can be found [here](https://huggingface.co/transformers/pretrained_models.html).\n",
    "\n",
    "### 8.1 BERT Model on raw data \n",
    "So first we run the BERT model on the raw text to see how it performs to be able to have a benchmark to compare to. \n",
    "We first load here the BERT Large Uncased pretrained model maentionned above and its parameters to have a quick idea (we were inspired by [Szelee](https://www.kaggle.com/szelee/simpletransformers-hyperparam-tuning-k-fold-cv)'s code here)."
   ]
  },
  {
   "cell_type": "code",
   "execution_count": 892,
   "metadata": {},
   "outputs": [
    {
     "data": {
      "application/vnd.jupyter.widget-view+json": {
       "model_id": "8d3ccc529f1a48ed9960c23ffa03e193",
       "version_major": 2,
       "version_minor": 0
      },
      "text/plain": [
       "HBox(children=(IntProgress(value=0, description='Downloading', max=1344997306, style=ProgressStyle(description…"
      ]
     },
     "metadata": {},
     "output_type": "display_data"
    },
    {
     "name": "stdout",
     "output_type": "stream",
     "text": [
      "\n"
     ]
    },
    {
     "data": {
      "application/vnd.jupyter.widget-view+json": {
       "model_id": "616cba663c6f4c939e9ca924bb41f04e",
       "version_major": 2,
       "version_minor": 0
      },
      "text/plain": [
       "HBox(children=(IntProgress(value=0, description='Downloading', max=231508, style=ProgressStyle(description_wid…"
      ]
     },
     "metadata": {},
     "output_type": "display_data"
    },
    {
     "name": "stdout",
     "output_type": "stream",
     "text": [
      "\n"
     ]
    },
    {
     "data": {
      "text/plain": [
       "{'sliding_window': False,\n",
       " 'tie_value': 1,\n",
       " 'stride': 0.8,\n",
       " 'regression': False,\n",
       " 'output_dir': 'outputs/',\n",
       " 'best_model_dir': 'outputs/best_model',\n",
       " 'cache_dir': 'cache_dir/',\n",
       " 'fp16': False,\n",
       " 'fp16_opt_level': 'O1',\n",
       " 'max_seq_length': 128,\n",
       " 'train_batch_size': 8,\n",
       " 'gradient_accumulation_steps': 1,\n",
       " 'eval_batch_size': 8,\n",
       " 'num_train_epochs': 1,\n",
       " 'weight_decay': 0,\n",
       " 'learning_rate': 4e-05,\n",
       " 'adam_epsilon': 1e-08,\n",
       " 'warmup_ratio': 0.06,\n",
       " 'warmup_steps': 0,\n",
       " 'max_grad_norm': 1.0,\n",
       " 'do_lower_case': False,\n",
       " 'logging_steps': 50,\n",
       " 'save_steps': 2000,\n",
       " 'no_cache': False,\n",
       " 'save_model_every_epoch': True,\n",
       " 'evaluate_during_training': False,\n",
       " 'evaluate_during_training_steps': 2000,\n",
       " 'evaluate_during_training_verbose': False,\n",
       " 'use_cached_eval_features': False,\n",
       " 'save_eval_checkpoints': True,\n",
       " 'tensorboard_dir': None,\n",
       " 'overwrite_output_dir': False,\n",
       " 'reprocess_input_data': True,\n",
       " 'process_count': 14,\n",
       " 'n_gpu': 1,\n",
       " 'use_multiprocessing': True,\n",
       " 'silent': False,\n",
       " 'wandb_project': None,\n",
       " 'wandb_kwargs': {},\n",
       " 'use_early_stopping': False,\n",
       " 'early_stopping_patience': 3,\n",
       " 'early_stopping_delta': 0,\n",
       " 'early_stopping_metric': 'eval_loss',\n",
       " 'early_stopping_metric_minimize': True,\n",
       " 'manual_seed': None,\n",
       " 'encoding': None,\n",
       " 'config': {},\n",
       " 'model_name': 'bert-large-uncased',\n",
       " 'model_type': 'bert'}"
      ]
     },
     "execution_count": 892,
     "metadata": {},
     "output_type": "execute_result"
    }
   ],
   "source": [
    "train_data = pd.read_csv('train.csv')\n",
    "train_data = train_data[['text', 'target']]\n",
    "\n",
    "bert_uncased = ClassificationModel('bert', 'bert-large-uncased', use_cuda=False) # Loading the pretrained model\n",
    "\n",
    "# We can take a look at the default argument that we could tweak for optimization \n",
    "bert_uncased.args"
   ]
  },
  {
   "cell_type": "code",
   "execution_count": 895,
   "metadata": {},
   "outputs": [
    {
     "data": {
      "application/vnd.jupyter.widget-view+json": {
       "model_id": "19942cd738764c78937dae2a834e2746",
       "version_major": 2,
       "version_minor": 0
      },
      "text/plain": [
       "HBox(children=(IntProgress(value=0, description='Downloading', max=440473133, style=ProgressStyle(description_…"
      ]
     },
     "metadata": {},
     "output_type": "display_data"
    },
    {
     "name": "stdout",
     "output_type": "stream",
     "text": [
      "\n"
     ]
    },
    {
     "data": {
      "application/vnd.jupyter.widget-view+json": {
       "model_id": "7d4bec3df02c4b95bb3ef2268132fff9",
       "version_major": 2,
       "version_minor": 0
      },
      "text/plain": [
       "HBox(children=(IntProgress(value=0, description='Downloading', max=231508, style=ProgressStyle(description_wid…"
      ]
     },
     "metadata": {},
     "output_type": "display_data"
    },
    {
     "name": "stdout",
     "output_type": "stream",
     "text": [
      "\n"
     ]
    },
    {
     "name": "stderr",
     "output_type": "stream",
     "text": [
      "/Users/mohamedkhanafer/anaconda3/lib/python3.7/site-packages/simpletransformers/classification/classification_model.py:249: UserWarning: Dataframe headers not specified. Falling back to using column 0 as text and column 1 as labels.\n",
      "  \"Dataframe headers not specified. Falling back to using column 0 as text and column 1 as labels.\"\n"
     ]
    },
    {
     "data": {
      "application/vnd.jupyter.widget-view+json": {
       "model_id": "cfbed4ba22ba48e893e81ecff3a39325",
       "version_major": 2,
       "version_minor": 0
      },
      "text/plain": [
       "HBox(children=(IntProgress(value=0, max=7613), HTML(value='')))"
      ]
     },
     "metadata": {},
     "output_type": "display_data"
    },
    {
     "name": "stdout",
     "output_type": "stream",
     "text": [
      "\n"
     ]
    },
    {
     "data": {
      "application/vnd.jupyter.widget-view+json": {
       "model_id": "30169a89285c48b3a966bbdbaa69f64e",
       "version_major": 2,
       "version_minor": 0
      },
      "text/plain": [
       "HBox(children=(IntProgress(value=0, description='Epoch', max=1, style=ProgressStyle(description_width='initial…"
      ]
     },
     "metadata": {},
     "output_type": "display_data"
    },
    {
     "data": {
      "application/vnd.jupyter.widget-view+json": {
       "model_id": "6cc2c179bcdb4c25b105113e85158ef1",
       "version_major": 2,
       "version_minor": 0
      },
      "text/plain": [
       "HBox(children=(IntProgress(value=0, description='Current iteration', max=952, style=ProgressStyle(description_…"
      ]
     },
     "metadata": {},
     "output_type": "display_data"
    },
    {
     "name": "stdout",
     "output_type": "stream",
     "text": [
      "Running loss: 0.682678"
     ]
    },
    {
     "name": "stderr",
     "output_type": "stream",
     "text": [
      "/Users/mohamedkhanafer/anaconda3/lib/python3.7/site-packages/torch/optim/lr_scheduler.py:224: UserWarning: To get the last learning rate computed by the scheduler, please use `get_last_lr()`.\n",
      "  warnings.warn(\"To get the last learning rate computed by the scheduler, \"\n"
     ]
    },
    {
     "name": "stdout",
     "output_type": "stream",
     "text": [
      "Running loss: 0.331117\n"
     ]
    }
   ],
   "source": [
    "model = ClassificationModel('bert', 'bert-base-uncased', use_cuda=False) \n",
    "model.train_model(train_data) # We train the model"
   ]
  },
  {
   "cell_type": "code",
   "execution_count": 896,
   "metadata": {},
   "outputs": [
    {
     "data": {
      "application/vnd.jupyter.widget-view+json": {
       "model_id": "9f9e01c5db544f4dbcbbbeb12cad73cc",
       "version_major": 2,
       "version_minor": 0
      },
      "text/plain": [
       "HBox(children=(IntProgress(value=0, max=3263), HTML(value='')))"
      ]
     },
     "metadata": {},
     "output_type": "display_data"
    },
    {
     "name": "stdout",
     "output_type": "stream",
     "text": [
      "\n"
     ]
    },
    {
     "data": {
      "application/vnd.jupyter.widget-view+json": {
       "model_id": "b9f7584b32ef4b42bbeb99d308448c59",
       "version_major": 2,
       "version_minor": 0
      },
      "text/plain": [
       "HBox(children=(IntProgress(value=0, max=408), HTML(value='')))"
      ]
     },
     "metadata": {},
     "output_type": "display_data"
    },
    {
     "name": "stdout",
     "output_type": "stream",
     "text": [
      "\n"
     ]
    }
   ],
   "source": [
    "test_data = pd.read_csv('test.csv')\n",
    "predictions, raw_outputs = model.predict(test_data['text'])\n",
    "\n",
    "submission = pd.read_csv(\"sample_submission.csv\")\n",
    "submission[\"target\"] = predictions\n",
    "submission.to_csv(\"submissionBERT.csv\", index=False)"
   ]
  },
  {
   "cell_type": "markdown",
   "metadata": {},
   "source": [
    "The score of this submission on the leaderboard is 0.78834. Knowing that we have done no cleaning to the text, it could be considered good. Let us now try to predict the cleaned text using Bert.\n",
    "\n",
    "### 8.2 BERT Model on cleaner data \n",
    "The second model we run is on the data we cleaned in Approach I."
   ]
  },
  {
   "cell_type": "code",
   "execution_count": 906,
   "metadata": {},
   "outputs": [
    {
     "data": {
      "application/vnd.jupyter.widget-view+json": {
       "model_id": "e25a3d2542fd45e59e09848077a63c95",
       "version_major": 2,
       "version_minor": 0
      },
      "text/plain": [
       "HBox(children=(IntProgress(value=0, max=7613), HTML(value='')))"
      ]
     },
     "metadata": {},
     "output_type": "display_data"
    },
    {
     "name": "stdout",
     "output_type": "stream",
     "text": [
      "\n"
     ]
    },
    {
     "data": {
      "application/vnd.jupyter.widget-view+json": {
       "model_id": "5f2198deb59040f398f931af1434f013",
       "version_major": 2,
       "version_minor": 0
      },
      "text/plain": [
       "HBox(children=(IntProgress(value=0, description='Epoch', max=1, style=ProgressStyle(description_width='initial…"
      ]
     },
     "metadata": {},
     "output_type": "display_data"
    },
    {
     "data": {
      "application/vnd.jupyter.widget-view+json": {
       "model_id": "268408a59c1d4e29b0cae91f7f919859",
       "version_major": 2,
       "version_minor": 0
      },
      "text/plain": [
       "HBox(children=(IntProgress(value=0, description='Current iteration', max=952, style=ProgressStyle(description_…"
      ]
     },
     "metadata": {},
     "output_type": "display_data"
    },
    {
     "name": "stdout",
     "output_type": "stream",
     "text": [
      "Running loss: 0.519508\n"
     ]
    }
   ],
   "source": [
    "trainBERT_B = trainB[['text','target']]\n",
    "testBERT_B = testB\n",
    "\n",
    "model = ClassificationModel('bert', 'bert-base-uncased', use_cuda=False ,args={'overwrite_output_dir': True}) \n",
    "model.train_model(trainBERT_B)"
   ]
  },
  {
   "cell_type": "code",
   "execution_count": 907,
   "metadata": {},
   "outputs": [
    {
     "data": {
      "application/vnd.jupyter.widget-view+json": {
       "model_id": "18e7246f13a040b6b1421be29443e058",
       "version_major": 2,
       "version_minor": 0
      },
      "text/plain": [
       "HBox(children=(IntProgress(value=0, max=3263), HTML(value='')))"
      ]
     },
     "metadata": {},
     "output_type": "display_data"
    },
    {
     "name": "stdout",
     "output_type": "stream",
     "text": [
      "\n"
     ]
    },
    {
     "data": {
      "application/vnd.jupyter.widget-view+json": {
       "model_id": "5fe9151028fe49549809278d64ca6428",
       "version_major": 2,
       "version_minor": 0
      },
      "text/plain": [
       "HBox(children=(IntProgress(value=0, max=408), HTML(value='')))"
      ]
     },
     "metadata": {},
     "output_type": "display_data"
    },
    {
     "name": "stdout",
     "output_type": "stream",
     "text": [
      "\n"
     ]
    }
   ],
   "source": [
    "testBERT_B = testB.copy()\n",
    "predictions, raw_outputs = model.predict(testBERT_B['text'])\n",
    "\n",
    "submission = pd.read_csv(\"sample_submission.csv\")\n",
    "submission[\"target\"] = predictions\n",
    "submission.to_csv(\"submissionBERT_withTrainB.csv\", index=False)"
   ]
  },
  {
   "cell_type": "markdown",
   "metadata": {},
   "source": [
    "We see a clear evolution in the score to 0.82617! Our highest score so far and shows the power of BERT.\n",
    "\n",
    "### 8.3 BERT Model on cleaned and normalized data\n",
    "The 3rd model is run on the cleaned and normalized data from our Approach II."
   ]
  },
  {
   "cell_type": "code",
   "execution_count": 908,
   "metadata": {},
   "outputs": [
    {
     "data": {
      "application/vnd.jupyter.widget-view+json": {
       "model_id": "51ea3be746f4439b9ed580cef97c031c",
       "version_major": 2,
       "version_minor": 0
      },
      "text/plain": [
       "HBox(children=(IntProgress(value=0, max=7613), HTML(value='')))"
      ]
     },
     "metadata": {},
     "output_type": "display_data"
    },
    {
     "name": "stdout",
     "output_type": "stream",
     "text": [
      "\n"
     ]
    },
    {
     "data": {
      "application/vnd.jupyter.widget-view+json": {
       "model_id": "021a214bf5fd4223a694d94e699055c0",
       "version_major": 2,
       "version_minor": 0
      },
      "text/plain": [
       "HBox(children=(IntProgress(value=0, description='Epoch', max=1, style=ProgressStyle(description_width='initial…"
      ]
     },
     "metadata": {},
     "output_type": "display_data"
    },
    {
     "data": {
      "application/vnd.jupyter.widget-view+json": {
       "model_id": "09165a7355cb48b3ab2adfc2784a7eb0",
       "version_major": 2,
       "version_minor": 0
      },
      "text/plain": [
       "HBox(children=(IntProgress(value=0, description='Current iteration', max=952, style=ProgressStyle(description_…"
      ]
     },
     "metadata": {},
     "output_type": "display_data"
    },
    {
     "name": "stdout",
     "output_type": "stream",
     "text": [
      "Running loss: 0.518587\n"
     ]
    }
   ],
   "source": [
    "trainBERT_D = trainD[['text', 'target']]\n",
    "testBERT_D = testD.copy()\n",
    "\n",
    "model = ClassificationModel('bert', 'bert-base-uncased', use_cuda=False ,args={'overwrite_output_dir': True}) \n",
    "model.train_model(trainBERT_D)"
   ]
  },
  {
   "cell_type": "code",
   "execution_count": 909,
   "metadata": {},
   "outputs": [
    {
     "data": {
      "application/vnd.jupyter.widget-view+json": {
       "model_id": "d6c516de18254d1daa431dbb77f32626",
       "version_major": 2,
       "version_minor": 0
      },
      "text/plain": [
       "HBox(children=(IntProgress(value=0, max=3263), HTML(value='')))"
      ]
     },
     "metadata": {},
     "output_type": "display_data"
    },
    {
     "name": "stdout",
     "output_type": "stream",
     "text": [
      "\n"
     ]
    },
    {
     "data": {
      "application/vnd.jupyter.widget-view+json": {
       "model_id": "939d196aeb054ee38af551bd8f64afc8",
       "version_major": 2,
       "version_minor": 0
      },
      "text/plain": [
       "HBox(children=(IntProgress(value=0, max=408), HTML(value='')))"
      ]
     },
     "metadata": {},
     "output_type": "display_data"
    },
    {
     "name": "stdout",
     "output_type": "stream",
     "text": [
      "\n"
     ]
    }
   ],
   "source": [
    "predictions, raw_outputs = model.predict(testBERT_D['text'])\n",
    "\n",
    "submission = pd.read_csv(\"sample_submission.csv\")\n",
    "submission[\"target\"] = predictions\n",
    "submission.to_csv(\"submissionBERT_withTrainD.csv\", index=False)"
   ]
  },
  {
   "cell_type": "markdown",
   "metadata": {},
   "source": [
    "The score does improve slightly to 0.82719!\n",
    "\n",
    "### 8.4 BERT Model on cleaned, normalized and relabeled data\n",
    "We came accross an article saying that BERT was highly affected by mislabeling. And as we tried in Approach II to relabel some of the duplicated Tweets that had different values with no success, we here reuse this relabeled data to see if it would actually make a differencce."
   ]
  },
  {
   "cell_type": "code",
   "execution_count": 910,
   "metadata": {},
   "outputs": [
    {
     "data": {
      "application/vnd.jupyter.widget-view+json": {
       "model_id": "9504a00fe1ad408793bd7628b7a80ab2",
       "version_major": 2,
       "version_minor": 0
      },
      "text/plain": [
       "HBox(children=(IntProgress(value=0, max=7613), HTML(value='')))"
      ]
     },
     "metadata": {},
     "output_type": "display_data"
    },
    {
     "name": "stdout",
     "output_type": "stream",
     "text": [
      "\n"
     ]
    },
    {
     "data": {
      "application/vnd.jupyter.widget-view+json": {
       "model_id": "29d0d56212c0469f9c14076570697906",
       "version_major": 2,
       "version_minor": 0
      },
      "text/plain": [
       "HBox(children=(IntProgress(value=0, description='Epoch', max=1, style=ProgressStyle(description_width='initial…"
      ]
     },
     "metadata": {},
     "output_type": "display_data"
    },
    {
     "data": {
      "application/vnd.jupyter.widget-view+json": {
       "model_id": "2ff6ebd7e6bb4eb3a639828e2979f8d9",
       "version_major": 2,
       "version_minor": 0
      },
      "text/plain": [
       "HBox(children=(IntProgress(value=0, description='Current iteration', max=952, style=ProgressStyle(description_…"
      ]
     },
     "metadata": {},
     "output_type": "display_data"
    },
    {
     "name": "stdout",
     "output_type": "stream",
     "text": [
      "Running loss: 0.504321\n"
     ]
    }
   ],
   "source": [
    "trainBERT_C = trainC[['text', 'target']]\n",
    "testBERT_C = testC.copy()\n",
    "\n",
    "model = ClassificationModel('bert', 'bert-base-uncased', use_cuda=False ,args={'overwrite_output_dir': True}) \n",
    "model.train_model(trainBERT_C)"
   ]
  },
  {
   "cell_type": "code",
   "execution_count": 911,
   "metadata": {},
   "outputs": [
    {
     "data": {
      "application/vnd.jupyter.widget-view+json": {
       "model_id": "01e9e03d9ccd401299d3a6920fb3812a",
       "version_major": 2,
       "version_minor": 0
      },
      "text/plain": [
       "HBox(children=(IntProgress(value=0, max=3263), HTML(value='')))"
      ]
     },
     "metadata": {},
     "output_type": "display_data"
    },
    {
     "name": "stdout",
     "output_type": "stream",
     "text": [
      "\n"
     ]
    },
    {
     "data": {
      "application/vnd.jupyter.widget-view+json": {
       "model_id": "111229ac547e4520a7a4bdd7b8abb872",
       "version_major": 2,
       "version_minor": 0
      },
      "text/plain": [
       "HBox(children=(IntProgress(value=0, max=408), HTML(value='')))"
      ]
     },
     "metadata": {},
     "output_type": "display_data"
    },
    {
     "name": "stdout",
     "output_type": "stream",
     "text": [
      "\n"
     ]
    }
   ],
   "source": [
    "predictions, raw_outputs = model.predict(testBERT_C['text'])\n",
    "\n",
    "submission = pd.read_csv(\"sample_submission.csv\")\n",
    "submission[\"target\"] = predictions\n",
    "submission.to_csv(\"submissionBERT_withTrainC.csv\", index=False)"
   ]
  },
  {
   "cell_type": "markdown",
   "metadata": {},
   "source": [
    "The score drops to 0.80368, which again shows that relabeling is not very beneficial in all the cases.\n",
    "\n",
    "### 8.5 BERT Model on data corrected for spelling mistakes\n",
    "\n",
    "We now run the BERT model with the data fixed for spelling mistakes."
   ]
  },
  {
   "cell_type": "code",
   "execution_count": 994,
   "metadata": {},
   "outputs": [
    {
     "name": "stderr",
     "output_type": "stream",
     "text": [
      "/Users/mohamedkhanafer/anaconda3/lib/python3.7/site-packages/simpletransformers/classification/classification_model.py:249: UserWarning: Dataframe headers not specified. Falling back to using column 0 as text and column 1 as labels.\n",
      "  \"Dataframe headers not specified. Falling back to using column 0 as text and column 1 as labels.\"\n"
     ]
    },
    {
     "data": {
      "application/vnd.jupyter.widget-view+json": {
       "model_id": "45aadc0e01c041da9e5273646e4cd0d5",
       "version_major": 2,
       "version_minor": 0
      },
      "text/plain": [
       "HBox(children=(IntProgress(value=0, max=7613), HTML(value='')))"
      ]
     },
     "metadata": {},
     "output_type": "display_data"
    },
    {
     "name": "stdout",
     "output_type": "stream",
     "text": [
      "\n"
     ]
    },
    {
     "data": {
      "application/vnd.jupyter.widget-view+json": {
       "model_id": "2dcdcd038eaf4d0da564da73ebb41bdc",
       "version_major": 2,
       "version_minor": 0
      },
      "text/plain": [
       "HBox(children=(IntProgress(value=0, description='Epoch', max=1, style=ProgressStyle(description_width='initial…"
      ]
     },
     "metadata": {},
     "output_type": "display_data"
    },
    {
     "data": {
      "application/vnd.jupyter.widget-view+json": {
       "model_id": "b3ce149791a54dcfae53b41d2fe25953",
       "version_major": 2,
       "version_minor": 0
      },
      "text/plain": [
       "HBox(children=(IntProgress(value=0, description='Current iteration', max=952, style=ProgressStyle(description_…"
      ]
     },
     "metadata": {},
     "output_type": "display_data"
    },
    {
     "name": "stdout",
     "output_type": "stream",
     "text": [
      "Running loss: 0.298023"
     ]
    },
    {
     "name": "stderr",
     "output_type": "stream",
     "text": [
      "/Users/mohamedkhanafer/anaconda3/lib/python3.7/site-packages/torch/optim/lr_scheduler.py:224: UserWarning: To get the last learning rate computed by the scheduler, please use `get_last_lr()`.\n",
      "  warnings.warn(\"To get the last learning rate computed by the scheduler, \"\n"
     ]
    },
    {
     "name": "stdout",
     "output_type": "stream",
     "text": [
      "Running loss: 0.837572\n"
     ]
    }
   ],
   "source": [
    "trainSpelling = trainK.copy()\n",
    "testSpelling = testK.copy()\n",
    "\n",
    "trainBERT_E = trainSpelling[['text', 'target']]\n",
    "testBERT_E = testSpelling.copy()\n",
    "\n",
    "model = ClassificationModel('bert', 'bert-base-uncased', use_cuda=False ,args={'overwrite_output_dir': True}) \n",
    "model.train_model(trainBERT_E)"
   ]
  },
  {
   "cell_type": "code",
   "execution_count": 995,
   "metadata": {},
   "outputs": [
    {
     "data": {
      "application/vnd.jupyter.widget-view+json": {
       "model_id": "68d85302ade14a768e20cff20583eae6",
       "version_major": 2,
       "version_minor": 0
      },
      "text/plain": [
       "HBox(children=(IntProgress(value=0, max=3263), HTML(value='')))"
      ]
     },
     "metadata": {},
     "output_type": "display_data"
    },
    {
     "name": "stdout",
     "output_type": "stream",
     "text": [
      "\n"
     ]
    },
    {
     "data": {
      "application/vnd.jupyter.widget-view+json": {
       "model_id": "fc5d563560d44e79af3cfb1308516a8b",
       "version_major": 2,
       "version_minor": 0
      },
      "text/plain": [
       "HBox(children=(IntProgress(value=0, max=408), HTML(value='')))"
      ]
     },
     "metadata": {},
     "output_type": "display_data"
    },
    {
     "name": "stdout",
     "output_type": "stream",
     "text": [
      "\n"
     ]
    }
   ],
   "source": [
    "predictions, raw_outputs = model.predict(testBERT_E['text'])\n",
    "\n",
    "submission = pd.read_csv(\"sample_submission.csv\")\n",
    "submission[\"target\"] = predictions\n",
    "submission.to_csv(\"submissionBERT_withTrainE_Spel.csv\", index=False)"
   ]
  },
  {
   "cell_type": "markdown",
   "metadata": {},
   "source": [
    "This gives us a result of 0.82822."
   ]
  },
  {
   "cell_type": "markdown",
   "metadata": {},
   "source": [
    "### 8.6 BERT Model on corrected spelling mistakes and normalized data\n",
    "Our final model run is on the data cleaned with the spelling mistakes taken out as well. We then normalized this data by lemmatizing it and removing the stop words."
   ]
  },
  {
   "cell_type": "code",
   "execution_count": 1046,
   "metadata": {},
   "outputs": [],
   "source": [
    "trainSpelling2 = trainK.copy()\n",
    "testSpelling2 = testK.copy()"
   ]
  },
  {
   "cell_type": "code",
   "execution_count": 1047,
   "metadata": {},
   "outputs": [],
   "source": [
    "from nltk.corpus import wordnet\n",
    "def get_wordnet_pos(word):\n",
    "    \"\"\"Map POS tag to first character lemmatize() accepts\"\"\"\n",
    "    tag = nltk.pos_tag([word])[0][1][0].upper()\n",
    "    tag_dict = {\"J\": wordnet.ADJ,\n",
    "                \"N\": wordnet.NOUN,\n",
    "                \"V\": wordnet.VERB,\n",
    "                \"R\": wordnet.ADV}\n",
    "\n",
    "    return tag_dict.get(tag, wordnet.NOUN)\n",
    "# 1. Init Lemmatizer\n",
    "lemmatizer = WordNetLemmatizer()\n",
    "\n",
    "# remove stopwords\n",
    "from nltk.corpus import stopwords\n",
    "stop_words = set(stopwords.words(\"english\"))\n",
    "\n",
    "def stop_w_removed(text):\n",
    "    list_words = [word for word in text if not word in stop_words] # We remove the stopwords\n",
    "    return list_words"
   ]
  },
  {
   "cell_type": "code",
   "execution_count": 1048,
   "metadata": {},
   "outputs": [],
   "source": [
    "trainSpelling2['text'] = trainSpelling2['text'].apply(lambda x : word_tokenize(x))\n",
    "testSpelling2['text'] = testSpelling2['text'].apply(lambda x : word_tokenize(x))\n",
    "\n",
    "trainSpelling2['text'] = trainSpelling2['text'].apply(lambda x : ' '.join([lemmatizer.lemmatize(w, get_wordnet_pos(w)) for w in x]))\n",
    "testSpelling2['text'] = testSpelling2['text'].apply(lambda x : ' '.join([lemmatizer.lemmatize(w, get_wordnet_pos(w)) for w in x]))\n",
    "\n",
    "trainSpelling2['text'] = trainSpelling2['text'].apply(lambda x : word_tokenize(x))\n",
    "testSpelling2['text'] = testSpelling2['text'].apply(lambda x : word_tokenize(x))\n",
    "\n",
    "trainSpelling2[\"text\"] = trainSpelling2.text.apply(lambda x : stop_w_removed(x))\n",
    "testSpelling2[\"text\"] = testSpelling2.text.apply(lambda x : stop_w_removed(x))\n",
    "\n",
    "trainSpelling2[\"text\"] = trainSpelling2[\"text\"].apply(make_list) # We go from arrays back to sentences\n",
    "testSpelling2[\"text\"] = testSpelling2[\"text\"].apply(make_list)"
   ]
  },
  {
   "cell_type": "code",
   "execution_count": 1049,
   "metadata": {},
   "outputs": [
    {
     "data": {
      "application/vnd.jupyter.widget-view+json": {
       "model_id": "b874d0b4eaa3466a9b1c5c75080c8ef8",
       "version_major": 2,
       "version_minor": 0
      },
      "text/plain": [
       "HBox(children=(IntProgress(value=0, max=7613), HTML(value='')))"
      ]
     },
     "metadata": {},
     "output_type": "display_data"
    },
    {
     "data": {
      "application/vnd.jupyter.widget-view+json": {
       "model_id": "237fb68f0d86460ab2c7d553400b882e",
       "version_major": 2,
       "version_minor": 0
      },
      "text/plain": [
       "HBox(children=(IntProgress(value=0, description='Epoch', max=1, style=ProgressStyle(description_width='initial…"
      ]
     },
     "metadata": {},
     "output_type": "display_data"
    },
    {
     "data": {
      "application/vnd.jupyter.widget-view+json": {
       "model_id": "8fa6b06fb62f4225beafec03d3745066",
       "version_major": 2,
       "version_minor": 0
      },
      "text/plain": [
       "HBox(children=(IntProgress(value=0, description='Current iteration', max=952, style=ProgressStyle(description_…"
      ]
     },
     "metadata": {},
     "output_type": "display_data"
    },
    {
     "name": "stdout",
     "output_type": "stream",
     "text": [
      "Running loss: 0.539668"
     ]
    },
    {
     "name": "stderr",
     "output_type": "stream",
     "text": [
      "/Users/mohamedkhanafer/anaconda3/lib/python3.7/site-packages/torch/optim/lr_scheduler.py:224: UserWarning: To get the last learning rate computed by the scheduler, please use `get_last_lr()`.\n",
      "  warnings.warn(\"To get the last learning rate computed by the scheduler, \"\n"
     ]
    },
    {
     "name": "stdout",
     "output_type": "stream",
     "text": [
      "Running loss: 0.272584"
     ]
    }
   ],
   "source": [
    "trainBERT_F = trainSpelling2[['text', 'target']]\n",
    "testBERT_F = testSpelling2.copy()\n",
    "\n",
    "model = ClassificationModel('bert', 'bert-base-uncased', use_cuda=False ,args={'overwrite_output_dir': True}) \n",
    "model.train_model(trainBERT_F)"
   ]
  },
  {
   "cell_type": "code",
   "execution_count": 1050,
   "metadata": {},
   "outputs": [
    {
     "data": {
      "application/vnd.jupyter.widget-view+json": {
       "model_id": "e845786346104b7daf5b8ffebfac3da3",
       "version_major": 2,
       "version_minor": 0
      },
      "text/plain": [
       "HBox(children=(IntProgress(value=0, max=3263), HTML(value='')))"
      ]
     },
     "metadata": {},
     "output_type": "display_data"
    },
    {
     "data": {
      "application/vnd.jupyter.widget-view+json": {
       "model_id": "f75fa7d552bf4826b5c05acbf7f6058d",
       "version_major": 2,
       "version_minor": 0
      },
      "text/plain": [
       "HBox(children=(IntProgress(value=0, max=408), HTML(value='')))"
      ]
     },
     "metadata": {},
     "output_type": "display_data"
    }
   ],
   "source": [
    "predictions, raw_outputs = model.predict(testBERT_F['text'])\n",
    "\n",
    "submission = pd.read_csv(\"sample_submission.csv\")\n",
    "submission[\"target\"] = predictions\n",
    "submission.to_csv(\"submissionBERT_withTrainF_Spel_Norm.csv\", index=False)"
   ]
  },
  {
   "cell_type": "markdown",
   "metadata": {},
   "source": [
    "The further normalization of the data does not seem to help the BERT model with a score of 0.81288. We tried to explain this behavior by the following hypothesis:\n",
    "\n",
    "- Since BERT creates a a context before and after words, maybe removing stop words does not help BERT. \n",
    "\n",
    "To test this hypothesis, we re-run a model keeping stop words.\n",
    "\n",
    "### 8.7 BERT Model with spelling corrected, with stop words, and lemmatized"
   ]
  },
  {
   "cell_type": "code",
   "execution_count": 1051,
   "metadata": {},
   "outputs": [],
   "source": [
    "trainSpelling3 = trainK.copy()\n",
    "testSpelling3 = testK.copy()\n",
    "\n",
    "trainSpelling3['text'] = trainSpelling3['text'].apply(lambda x : word_tokenize(x))\n",
    "testSpelling3['text'] = testSpelling3['text'].apply(lambda x : word_tokenize(x))\n",
    "\n",
    "trainSpelling3['text'] = trainSpelling3['text'].apply(lambda x : ' '.join([lemmatizer.lemmatize(w, get_wordnet_pos(w)) for w in x]))\n",
    "testSpelling3['text'] = testSpelling3['text'].apply(lambda x : ' '.join([lemmatizer.lemmatize(w, get_wordnet_pos(w)) for w in x]))"
   ]
  },
  {
   "cell_type": "code",
   "execution_count": 1053,
   "metadata": {},
   "outputs": [
    {
     "data": {
      "application/vnd.jupyter.widget-view+json": {
       "model_id": "e18207912d5a4f6e8669f00807bf58da",
       "version_major": 2,
       "version_minor": 0
      },
      "text/plain": [
       "HBox(children=(IntProgress(value=0, max=7613), HTML(value='')))"
      ]
     },
     "metadata": {},
     "output_type": "display_data"
    },
    {
     "data": {
      "application/vnd.jupyter.widget-view+json": {
       "model_id": "2ffc56a8c6f14028b7995cc94216403e",
       "version_major": 2,
       "version_minor": 0
      },
      "text/plain": [
       "HBox(children=(IntProgress(value=0, description='Epoch', max=1, style=ProgressStyle(description_width='initial…"
      ]
     },
     "metadata": {},
     "output_type": "display_data"
    },
    {
     "data": {
      "application/vnd.jupyter.widget-view+json": {
       "model_id": "1a9d3a2b58224cd1a5dc9b0f4ea27347",
       "version_major": 2,
       "version_minor": 0
      },
      "text/plain": [
       "HBox(children=(IntProgress(value=0, description='Current iteration', max=952, style=ProgressStyle(description_…"
      ]
     },
     "metadata": {},
     "output_type": "display_data"
    },
    {
     "name": "stdout",
     "output_type": "stream",
     "text": [
      "Running loss: 0.045902"
     ]
    }
   ],
   "source": [
    "trainBERT_G = trainSpelling3[['text', 'target']]\n",
    "testBERT_G = testSpelling3.copy()\n",
    "\n",
    "model = ClassificationModel('bert', 'bert-base-uncased', use_cuda=False ,args={'overwrite_output_dir': True}) \n",
    "model.train_model(trainBERT_G)"
   ]
  },
  {
   "cell_type": "code",
   "execution_count": 1055,
   "metadata": {},
   "outputs": [
    {
     "data": {
      "application/vnd.jupyter.widget-view+json": {
       "model_id": "3c99e60a151d4fea83630d83ad8f183d",
       "version_major": 2,
       "version_minor": 0
      },
      "text/plain": [
       "HBox(children=(IntProgress(value=0, max=3263), HTML(value='')))"
      ]
     },
     "metadata": {},
     "output_type": "display_data"
    },
    {
     "data": {
      "application/vnd.jupyter.widget-view+json": {
       "model_id": "29027740295545cb826876e4c4781d24",
       "version_major": 2,
       "version_minor": 0
      },
      "text/plain": [
       "HBox(children=(IntProgress(value=0, max=408), HTML(value='')))"
      ]
     },
     "metadata": {},
     "output_type": "display_data"
    }
   ],
   "source": [
    "predictions, raw_outputs = model.predict(testBERT_G['text'])\n",
    "\n",
    "submission = pd.read_csv(\"sample_submission.csv\")\n",
    "submission[\"target\"] = predictions\n",
    "submission.to_csv(\"submissionBERT_Spel_Norm_WithSW.csv\", index=False)"
   ]
  },
  {
   "cell_type": "markdown",
   "metadata": {},
   "source": [
    "This hypothesis could be correct with a score on the Leaderboard of 0.82719 which is slightly lower than the best model in 8.6."
   ]
  },
  {
   "cell_type": "markdown",
   "metadata": {},
   "source": [
    "## 9. Conlusions and Final Model chosen\n",
    "\n",
    "Even if every model run in this notebook has its specifications and is special in a way, if we had to choose 2 models after running all of this work, we would choose:\n",
    "\n",
    "- For its simplicity: the simple Logistic regression run on the reprocessed data taking into consideration the spelling mistakes in Section 7.2 which has a score of 0.8230 on the Leaderboard!\n",
    "\n",
    "- For the best score: the BERT model running on the same data and that scored 0.82822.\n",
    "\n",
    "For a greater elaboration and summary of the findings, please look at the guide provided."
   ]
  }
 ],
 "metadata": {
  "kernelspec": {
   "display_name": "Python 3",
   "language": "python",
   "name": "python3"
  },
  "language_info": {
   "codemirror_mode": {
    "name": "ipython",
    "version": 3
   },
   "file_extension": ".py",
   "mimetype": "text/x-python",
   "name": "python",
   "nbconvert_exporter": "python",
   "pygments_lexer": "ipython3",
   "version": "3.7.3"
  }
 },
 "nbformat": 4,
 "nbformat_minor": 2
}
