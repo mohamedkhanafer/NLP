{
 "cells": [
  {
   "cell_type": "markdown",
   "metadata": {},
   "source": [
    "## How are the songs of the singers with the largest and lowest vocabulary evaluated by our Lexical Diversity approach?"
   ]
  },
  {
   "cell_type": "code",
   "execution_count": 4,
   "metadata": {},
   "outputs": [
    {
     "name": "stderr",
     "output_type": "stream",
     "text": [
      "[nltk_data] Downloading package punkt to\n",
      "[nltk_data]     /Users/mohamedkhanafer/nltk_data...\n",
      "[nltk_data]   Package punkt is already up-to-date!\n"
     ]
    }
   ],
   "source": [
    "import nltk\n",
    "nltk.download('punkt') \n",
    "from PyLyrics import *\n",
    "from nltk import word_tokenize, WordPunctTokenizer"
   ]
  },
  {
   "cell_type": "markdown",
   "metadata": {},
   "source": [
    "### 1. Introduction\n",
    "I came across an article discussing the overall vocabulary of some musicians across their careers. And so I wanted to compare some of the songs of the top 3 artists on that list and the last 2 artists to the 3 songs we saw in class.\n",
    "On top of the list is (with no surprise) Eminem, which used around 8,800 words in his 100 lenghtiest songs. Then come Jay Z (6,900 words) and Tupac Shakur (6,600 words). On the bottom of the list come the Spice Girls and Bruno Mars (around 1500 words).\n",
    "I tried to choose songs that seemed more lexically diverse and as expected, the results showed a large diversity difference between the two groups and also when compared to the 3 songs we saw.\n",
    "(article can be found here: https://lab.musixmatch.com/largest_vocabulary/)"
   ]
  },
  {
   "cell_type": "code",
   "execution_count": 26,
   "metadata": {},
   "outputs": [],
   "source": [
    "# Using the script we saw in class\n",
    "wpt = WordPunctTokenizer()\n",
    "def lexical_diversity(text):\n",
    "    return len(set(text)) / len(text)\n",
    "\n",
    "def read_and_split(lyrics):\n",
    "    return lyrics.split()\n",
    "\n",
    "def read_and_tokenize(lyrics):\n",
    "    return word_tokenize(lyrics)\n",
    "\n",
    "def read_and_wpt(lyrics):\n",
    "    return wpt.tokenize(lyrics)\n",
    "\n",
    "def calculate_diversity(author, song, pt=False, ll=20):\n",
    "    song_lyrics = PyLyrics.getLyrics(author,song)\n",
    "    txt_split = read_and_split(song_lyrics)\n",
    "    txt_tok = read_and_tokenize(song_lyrics)\n",
    "    txt_wpt = read_and_wpt(song_lyrics)\n",
    "    print(\"\\n--- LD of %s ---\" % song)\n",
    "    print(\"sp=%f, tk=%f, wpt=%f\" % (lexical_diversity(txt_split), lexical_diversity(txt_tok), lexical_diversity(txt_wpt)))\n",
    "    print(\"--------- // ----------\")\n",
    "    if pt:\n",
    "        print(txt_split[:ll])\n",
    "        print(txt_tok[:ll])\n",
    "        print(txt_wpt[:ll])\n",
    "\n",
    "# Note:\n",
    "# sp: using Python's split\n",
    "# tk: using NLTK word tokenizer\n",
    "# wpt: using wordpunkttokenizer"
   ]
  },
  {
   "cell_type": "markdown",
   "metadata": {},
   "source": [
    "### 2. The 3 examples seen in class"
   ]
  },
  {
   "cell_type": "code",
   "execution_count": 11,
   "metadata": {},
   "outputs": [
    {
     "name": "stdout",
     "output_type": "stream",
     "text": [
      "\n",
      "-- Lexical Diversity --\n",
      "\n",
      "\n",
      "--- LD of All You Need Is Love ---\n",
      "sp=0.167059, tk=0.120594, wpt=0.120135\n",
      "--------- // ----------\n",
      "\n",
      "--- LD of Bohemian Rhapsody ---\n",
      "sp=0.526596, tk=0.373695, wpt=0.362903\n",
      "--------- // ----------\n",
      "\n",
      "--- LD of Despacito ---\n",
      "sp=0.444211, tk=0.394636, wpt=0.394636\n",
      "--------- // ----------\n"
     ]
    }
   ],
   "source": [
    "print(\"\\n-- Lexical Diversity --\\n\")\n",
    "calculate_diversity('The Beatles','All You Need Is Love', pt = False)\n",
    "calculate_diversity('Queen','Bohemian Rhapsody', pt = False)\n",
    "calculate_diversity('Luis Fonsi','Despacito', pt = False)"
   ]
  },
  {
   "cell_type": "markdown",
   "metadata": {},
   "source": [
    "## 3. 3 songs of the top 3 singers on the list"
   ]
  },
  {
   "cell_type": "code",
   "execution_count": 9,
   "metadata": {},
   "outputs": [
    {
     "name": "stdout",
     "output_type": "stream",
     "text": [
      "3 songs by Eminem:\n",
      "\n",
      "--- LD of Rap God ---\n",
      "sp=0.459530, tk=0.382319, wpt=0.360384\n",
      "--------- // ----------\n",
      "\n",
      "--- LD of Headlights ---\n",
      "sp=0.457739, tk=0.385447, wpt=0.367041\n",
      "--------- // ----------\n",
      "\n",
      "--- LD of Sing for the Moment ---\n",
      "sp=0.473373, tk=0.385930, wpt=0.375121\n",
      "--------- // ----------\n",
      "\n",
      "\n",
      "3 songs by Jay-Z:\n",
      "\n",
      "--- LD of Dirt Off Your Shoulder ---\n",
      "sp=0.388554, tk=0.304130, wpt=0.301075\n",
      "--------- // ----------\n",
      "\n",
      "--- LD of Empire State of Mind ---\n",
      "sp=0.504478, tk=0.430628, wpt=0.408537\n",
      "--------- // ----------\n",
      "\n",
      "--- LD of Run This Town ---\n",
      "sp=0.531915, tk=0.424899, wpt=0.404822\n",
      "--------- // ----------\n",
      "\n",
      "\n",
      "3 songs by Tupac:\n",
      "\n",
      "--- LD of Changes ---\n",
      "sp=0.455247, tk=0.379592, wpt=0.360051\n",
      "--------- // ----------\n",
      "\n",
      "--- LD of Ghetto Gospel ---\n",
      "sp=0.518367, tk=0.454874, wpt=0.441536\n",
      "--------- // ----------\n",
      "\n",
      "--- LD of UNTIL THE END OF TIME ---\n",
      "sp=0.490427, tk=0.421466, wpt=0.409149\n",
      "--------- // ----------\n"
     ]
    }
   ],
   "source": [
    "print(\"3 songs by Eminem:\")\n",
    "calculate_diversity('Eminem','Rap God', pt = False)\n",
    "calculate_diversity('Eminem','Headlights', pt = False)\n",
    "calculate_diversity('Eminem','Sing for the Moment', pt = False)\n",
    "\n",
    "print(\"\")\n",
    "print(\"\")\n",
    "\n",
    "print(\"3 songs by Jay-Z:\")\n",
    "\n",
    "calculate_diversity('Jay-Z','Dirt Off Your Shoulder', pt = False)\n",
    "calculate_diversity('Jay-Z','Empire State of Mind', pt = False)\n",
    "calculate_diversity('Jay-Z','Run This Town', pt = False)\n",
    "\n",
    "print(\"\")\n",
    "print(\"\")\n",
    "\n",
    "print(\"3 songs by Tupac:\")\n",
    "calculate_diversity('Tupac','Changes', pt = False)\n",
    "calculate_diversity('Tupac','Ghetto Gospel', pt = False)\n",
    "calculate_diversity('Tupac','UNTIL THE END OF TIME', pt = False)"
   ]
  },
  {
   "cell_type": "markdown",
   "metadata": {},
   "source": [
    "## 3. 3 songs of the last 2 singers on the list"
   ]
  },
  {
   "cell_type": "code",
   "execution_count": 27,
   "metadata": {},
   "outputs": [
    {
     "name": "stdout",
     "output_type": "stream",
     "text": [
      "3 songs by the Spice Girls\n",
      "\n",
      "--- LD of Who Do You Think You Are ---\n",
      "sp=0.172291, tk=0.112549, wpt=0.119946\n",
      "--------- // ----------\n",
      "\n",
      "--- LD of Wannabe ---\n",
      "sp=0.285156, tk=0.195051, wpt=0.206325\n",
      "--------- // ----------\n",
      "\n",
      "--- LD of Spice Up Your Life ---\n",
      "sp=0.227488, tk=0.183365, wpt=0.178439\n",
      "--------- // ----------\n",
      "\n",
      "\n",
      "3 songs by Bruno Mars:\n",
      "\n",
      "--- LD of LOCKED OUT OF HEAVEN ---\n",
      "sp=0.297386, tk=0.240695, wpt=0.233831\n",
      "--------- // ----------\n",
      "\n",
      "--- LD of MARRY YOU ---\n",
      "sp=0.339450, tk=0.270619, wpt=0.248792\n",
      "--------- // ----------\n",
      "\n",
      "--- LD of GRENADE ---\n",
      "sp=0.345882, tk=0.250929, wpt=0.244248\n",
      "--------- // ----------\n"
     ]
    }
   ],
   "source": [
    "print(\"3 songs by the Spice Girls\")\n",
    "calculate_diversity('Spice Girls','Who Do You Think You Are', pt = False)\n",
    "calculate_diversity('Spice Girls','Wannabe', pt = False)\n",
    "calculate_diversity('Spice Girls','Spice Up Your Life', pt = False)\n",
    "\n",
    "print(\"\")\n",
    "print(\"\")\n",
    "\n",
    "print(\"3 songs by Bruno Mars:\")\n",
    "\n",
    "calculate_diversity('Bruno Mars','LOCKED OUT OF HEAVEN', pt = False)\n",
    "calculate_diversity('Bruno Mars','MARRY YOU', pt = False)\n",
    "calculate_diversity('Bruno Mars','GRENADE', pt = False)\n"
   ]
  }
 ],
 "metadata": {
  "kernelspec": {
   "display_name": "Python 3",
   "language": "python",
   "name": "python3"
  },
  "language_info": {
   "codemirror_mode": {
    "name": "ipython",
    "version": 3
   },
   "file_extension": ".py",
   "mimetype": "text/x-python",
   "name": "python",
   "nbconvert_exporter": "python",
   "pygments_lexer": "ipython3",
   "version": "3.7.3"
  }
 },
 "nbformat": 4,
 "nbformat_minor": 2
}
